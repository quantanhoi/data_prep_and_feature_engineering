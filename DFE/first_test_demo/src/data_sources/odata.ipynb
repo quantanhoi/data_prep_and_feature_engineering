{
 "cells": [
  {
   "cell_type": "markdown",
   "metadata": {},
   "source": [
    "{ “cells”: \\[ { “cell_type”: “code”, “execution_count”: 1, “metadata”:\n",
    "{}, “outputs”: \\[\\], “source”: \\[ “import requests”, “import pandas as\n",
    "pd” \\] }, { “cell_type”: “code”, “execution_count”: 2, “metadata”: {},\n",
    "“outputs”: \\[\\], “source”: \\[ “base_url =\n",
    "‘https://services.odata.org/TripPinRESTierService/’”, “end_point =\n",
    "‘People’” \\] }, { “cell_type”: “code”, “execution_count”: 4, “metadata”:\n",
    "{}, “outputs”: \\[\\], “source”: \\[ “response = requests.get(”, ”\n",
    "url=base_url + end_point,“,” params={“,”\n",
    "‘$format': 'json',\\n\",  \" '$top’ : 30“,” }“,”)” \\] } \\], “metadata”: {\n",
    "“kernelspec”: { “display_name”: “.venv”, “language”: “python”, “name”:\n",
    "“python3” }, “language_info”: { “codemirror_mode”: { “name”: “ipython”,\n",
    "“version”: 3 }, “file_extension”: “.py”, “mimetype”: “text/x-python”,\n",
    "“name”: “python”, “nbconvert_exporter”: “python”, “pygments_lexer”:\n",
    "“ipython3”, “version”: “3.12.8” }, “orig_nbformat”: 4 }, “nbformat”: 4,\n",
    "“nbformat_minor”: 2 }"
   ],
   "id": "42a14256-91c8-446e-92a7-ab6bf11055d3"
  }
 ],
 "nbformat": 4,
 "nbformat_minor": 5,
 "metadata": {}
}
