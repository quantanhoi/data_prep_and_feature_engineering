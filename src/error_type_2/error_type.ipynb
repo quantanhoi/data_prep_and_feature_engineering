{
 "cells": [
  {
   "cell_type": "code",
   "execution_count": 2,
   "id": "166ccd33",
   "metadata": {},
   "outputs": [
    {
     "name": "stdout",
     "output_type": "stream",
     "text": [
      "Original DataFrame:\n",
      "           name  treatmenta  treatmentb\n",
      "0    John Smith         NaN           2\n",
      "1      Jane Doe        16.0          11\n",
      "2  Mary Johnson         3.0           1\n",
      "\n",
      "Tidy DataFrame:\n",
      "           name         trt  result\n",
      "0    John Smith  treatmenta     NaN\n",
      "1      Jane Doe  treatmenta    16.0\n",
      "2  Mary Johnson  treatmenta     3.0\n",
      "3    John Smith  treatmentb     2.0\n",
      "4      Jane Doe  treatmentb    11.0\n",
      "5  Mary Johnson  treatmentb     1.0\n"
     ]
    }
   ],
   "source": [
    "import pandas as pd\n",
    "import numpy as np\n",
    "\n",
    "# Create the original DataFrame (headers are actually data values)\n",
    "df = pd.DataFrame({\n",
    "    'name': ['John Smith', 'Jane Doe', 'Mary Johnson'],\n",
    "    'treatmenta': [np.nan, 16, 3],\n",
    "    'treatmentb': [2, 11, 1]\n",
    "})\n",
    "\n",
    "print(\"Original DataFrame:\")\n",
    "print(df)\n",
    "\n",
    "# Unpivot/melt so the treatment goes into its own column and the result into another\n",
    "tidy = (\n",
    "    df.melt(id_vars='name', var_name='trt', value_name='result')\n",
    ")\n",
    "\n",
    "print(\"\\nTidy DataFrame:\")\n",
    "print(tidy)\n"
   ]
  },
  {
   "cell_type": "code",
   "execution_count": 3,
   "id": "aef6d51c",
   "metadata": {},
   "outputs": [
    {
     "name": "stdout",
     "output_type": "stream",
     "text": [
      "Original DataFrame:\n",
      "  machine    date   key  value\n",
      "0       M  1/1/22  tmin   15.0\n",
      "1       M  1/1/22  tmax   17.0\n",
      "\n",
      "Wide DataFrame (tidy):\n",
      "key machine    date  tmax  tmin\n",
      "0         M  1/1/22  17.0  15.0\n"
     ]
    }
   ],
   "source": [
    "import pandas as pd\n",
    "\n",
    "# Create the original DataFrame (key column holds variable names)\n",
    "df = pd.DataFrame({\n",
    "    'machine': ['M', 'M'],\n",
    "    'date': ['1/1/22', '1/1/22'],\n",
    "    'key': ['tmin', 'tmax'],\n",
    "    'value': [15.00, 17.00]\n",
    "})\n",
    "\n",
    "print(\"Original DataFrame:\")\n",
    "print(df)\n",
    "\n",
    "# Pivot the key/value rows back out into separate columns\n",
    "wide = (\n",
    "    df.pivot(index=['machine', 'date'], columns='key', values='value')\n",
    "      .reset_index()  # optional, removes MultiIndex\n",
    ")\n",
    "\n",
    "print(\"\\nWide DataFrame (tidy):\")\n",
    "print(wide)"
   ]
  },
  {
   "cell_type": "code",
   "execution_count": 5,
   "id": "1a0d8b17",
   "metadata": {},
   "outputs": [
    {
     "name": "stdout",
     "output_type": "stream",
     "text": [
      "Original DataFrame:\n",
      "   Store    Date TransactionID  Amount\n",
      "0      1  1/3/22         kdjvi   787.0\n",
      "1      1  1/3/22         kjdfj  1887.4\n",
      "2      2  1/3/22         geoku  1148.3\n",
      "\n",
      "Tidy DataFrame (monthly revenue per store):\n",
      "   Store    Month  Amount\n",
      "0      1  2022-01  2674.4\n",
      "1      2  2022-01  1148.3\n"
     ]
    },
    {
     "name": "stderr",
     "output_type": "stream",
     "text": [
      "C:\\Users\\thieu\\AppData\\Local\\Temp\\ipykernel_23504\\280333810.py:16: UserWarning: Could not infer format, so each element will be parsed individually, falling back to `dateutil`. To ensure parsing is consistent and as-expected, please specify a format.\n",
      "  df.assign(Month=pd.to_datetime(df['Date']).dt.to_period('M'))\n"
     ]
    }
   ],
   "source": [
    "import pandas as pd\n",
    "\n",
    "# Create the original DataFrame (each transaction is a row)\n",
    "df = pd.DataFrame({\n",
    "    'Store': [1, 1, 2],\n",
    "    'Date': ['1/3/22', '1/3/22', '1/3/22'],\n",
    "    'TransactionID': ['kdjvi', 'kjdfj', 'geoku'],\n",
    "    'Amount': [787.00, 1887.40, 1148.30]\n",
    "})\n",
    "\n",
    "print(\"Original DataFrame:\")\n",
    "print(df)\n",
    "\n",
    "# Aggregate: group by Store and Month, sum Amount\n",
    "tidy = (\n",
    "    df.assign(Month=pd.to_datetime(df['Date']).dt.to_period('M'))\n",
    "      .groupby(['Store', 'Month'], as_index=False)['Amount']\n",
    "      .sum()\n",
    ")\n",
    "\n",
    "print(\"\\nTidy DataFrame (monthly revenue per store):\")\n",
    "print(tidy)"
   ]
  }
 ],
 "metadata": {
  "kernelspec": {
   "display_name": "Python 3",
   "language": "python",
   "name": "python3"
  },
  "language_info": {
   "codemirror_mode": {
    "name": "ipython",
    "version": 3
   },
   "file_extension": ".py",
   "mimetype": "text/x-python",
   "name": "python",
   "nbconvert_exporter": "python",
   "pygments_lexer": "ipython3",
   "version": "3.11.9"
  }
 },
 "nbformat": 4,
 "nbformat_minor": 5
}
