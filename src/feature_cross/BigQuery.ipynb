{
 "cells": [
  {
   "cell_type": "code",
   "execution_count": 1,
   "id": "14d9866f",
   "metadata": {},
   "outputs": [],
   "source": [
    "import os\n",
    "os.environ['GOOGLE_APPLICATION_CREDENTIALS'] = \"noble-district-459911-t9-1c0ed90c64dd.json\""
   ]
  },
  {
   "cell_type": "code",
   "execution_count": 2,
   "id": "88750a4c",
   "metadata": {},
   "outputs": [],
   "source": [
    "query = \"\"\"\n",
    " SELECT\n",
    "  year,\n",
    "  month,\n",
    "  day,\n",
    "  state,\n",
    "  is_male,\n",
    "  weight_pounds,\n",
    "  mother_age,\n",
    "  plurality,\n",
    "FROM\n",
    "  `bigquery-public-data.samples.natality`\n",
    "LIMIT 1000\n",
    " \"\"\""
   ]
  },
  {
   "cell_type": "code",
   "execution_count": null,
   "id": "a58fc7e6",
   "metadata": {},
   "outputs": [],
   "source": []
  }
 ],
 "metadata": {
  "kernelspec": {
   "display_name": "base",
   "language": "python",
   "name": "python3"
  },
  "language_info": {
   "codemirror_mode": {
    "name": "ipython",
    "version": 3
   },
   "file_extension": ".py",
   "mimetype": "text/x-python",
   "name": "python",
   "nbconvert_exporter": "python",
   "pygments_lexer": "ipython3",
   "version": "3.12.7"
  }
 },
 "nbformat": 4,
 "nbformat_minor": 5
}
