{
 "cells": [
  {
   "cell_type": "code",
   "execution_count": null,
   "id": "b3c37f84",
   "metadata": {},
   "outputs": [
    {
     "name": "stdout",
     "output_type": "stream",
     "text": [
      "Original DataFrame:\n",
      "    Name  Score  City\n",
      "0  Alice   88.0   NaN\n",
      "1    Bob    NaN   NaN\n",
      "2    NaN   79.0   NaN\n",
      "3  Diana   90.0   NaN\n",
      "4    NaN    NaN   NaN\n",
      "clean rows: \n",
      "Empty DataFrame\n",
      "Columns: [Name, Score, City]\n",
      "Index: []\n",
      "clean rows all: \n",
      "    Name  Score  City\n",
      "0  Alice   88.0   NaN\n",
      "1    Bob    NaN   NaN\n",
      "2    NaN   79.0   NaN\n",
      "3  Diana   90.0   NaN\n",
      "clean_col\n",
      "    Name  Score\n",
      "0  Alice   88.0\n",
      "1    Bob    NaN\n",
      "2    NaN   79.0\n",
      "3  Diana   90.0\n",
      "4    NaN    NaN\n"
     ]
    }
   ],
   "source": [
    "import pandas as pd\n",
    "import numpy as np\n",
    "\n",
    "df = pd.DataFrame({\n",
    "    'Name' : ['Alice', 'Bob',   np.nan, 'Diana', np.nan],\n",
    "    'Score': [  88 ,   np.nan,   79  ,   90  , np.nan ], \n",
    "    'City' : [np.nan, np.nan, np.nan, np.nan, np.nan],\n",
    "})\n",
    "\n",
    "print(\"Original DataFrame:\", df.iloc[::,::], sep='\\n')\n",
    "\n",
    "# 1️⃣  Drop any row that has at least one NaN\n",
    "clean_rows_any = df.dropna()    #default is axis=rows, how ='any'\n",
    "print('clean rows: ',clean_rows_any, sep='\\n')  #this will return empty dataframe because all rows have at least one NaN\n",
    "\n",
    "clean_rows_all = df.dropna(how='all')   # this will drop rows only if all values are NaN\n",
    "print('clean rows all: ',clean_rows_all, sep='\\n')\n",
    "\n",
    "\n",
    "# 2️⃣  Drop columns that are all NaN\n",
    "clean_cols = df.dropna(axis='columns', how='all')\n",
    "print('clean_col', clean_cols, sep='\\n')\n"
   ]
  }
 ],
 "metadata": {
  "kernelspec": {
   "display_name": "Python 3",
   "language": "python",
   "name": "python3"
  },
  "language_info": {
   "codemirror_mode": {
    "name": "ipython",
    "version": 3
   },
   "file_extension": ".py",
   "mimetype": "text/x-python",
   "name": "python",
   "nbconvert_exporter": "python",
   "pygments_lexer": "ipython3",
   "version": "3.11.9"
  }
 },
 "nbformat": 4,
 "nbformat_minor": 5
}
