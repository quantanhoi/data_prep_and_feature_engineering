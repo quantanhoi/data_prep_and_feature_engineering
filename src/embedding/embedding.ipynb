{
 "cells": [
  {
   "cell_type": "code",
   "execution_count": 52,
   "id": "89953c8c",
   "metadata": {},
   "outputs": [],
   "source": [
    "import os\n",
    "\n",
    "import pandas as pd\n",
    "import tensorflow as tf\n",
    "\n",
    "from tensorflow import keras\n",
    "from tensorflow.keras import callbacks, layers, models, utils\n",
    "from tensorflow.keras.preprocessing.text import Tokenizer\n",
    "from tensorflow.keras.preprocessing.sequence import pad_sequences"
   ]
  },
  {
   "cell_type": "code",
   "execution_count": 53,
   "id": "0334edb9",
   "metadata": {},
   "outputs": [
    {
     "name": "stdout",
     "output_type": "stream",
     "text": [
      "0    Single(1)\n",
      "1    Single(1)\n",
      "2    Single(1)\n",
      "3     Twins(2)\n",
      "4    Single(1)\n",
      "Name: plurality, dtype: object\n"
     ]
    },
    {
     "data": {
      "text/html": [
       "<div>\n",
       "<style scoped>\n",
       "    .dataframe tbody tr th:only-of-type {\n",
       "        vertical-align: middle;\n",
       "    }\n",
       "\n",
       "    .dataframe tbody tr th {\n",
       "        vertical-align: top;\n",
       "    }\n",
       "\n",
       "    .dataframe thead th {\n",
       "        text-align: right;\n",
       "    }\n",
       "</style>\n",
       "<table border=\"1\" class=\"dataframe\">\n",
       "  <thead>\n",
       "    <tr style=\"text-align: right;\">\n",
       "      <th></th>\n",
       "      <th>weight_pounds</th>\n",
       "      <th>mother_age</th>\n",
       "      <th>gestation_weeks</th>\n",
       "    </tr>\n",
       "  </thead>\n",
       "  <tbody>\n",
       "    <tr>\n",
       "      <th>count</th>\n",
       "      <td>999.000000</td>\n",
       "      <td>999.000000</td>\n",
       "      <td>999.000000</td>\n",
       "    </tr>\n",
       "    <tr>\n",
       "      <th>mean</th>\n",
       "      <td>4.236444</td>\n",
       "      <td>29.446446</td>\n",
       "      <td>30.708709</td>\n",
       "    </tr>\n",
       "    <tr>\n",
       "      <th>std</th>\n",
       "      <td>2.361471</td>\n",
       "      <td>14.561489</td>\n",
       "      <td>6.952187</td>\n",
       "    </tr>\n",
       "    <tr>\n",
       "      <th>min</th>\n",
       "      <td>0.500449</td>\n",
       "      <td>12.000000</td>\n",
       "      <td>17.000000</td>\n",
       "    </tr>\n",
       "    <tr>\n",
       "      <th>25%</th>\n",
       "      <td>2.186986</td>\n",
       "      <td>15.000000</td>\n",
       "      <td>27.000000</td>\n",
       "    </tr>\n",
       "    <tr>\n",
       "      <th>50%</th>\n",
       "      <td>3.624400</td>\n",
       "      <td>42.000000</td>\n",
       "      <td>30.000000</td>\n",
       "    </tr>\n",
       "    <tr>\n",
       "      <th>75%</th>\n",
       "      <td>6.437498</td>\n",
       "      <td>43.000000</td>\n",
       "      <td>31.000000</td>\n",
       "    </tr>\n",
       "    <tr>\n",
       "      <th>max</th>\n",
       "      <td>11.062796</td>\n",
       "      <td>52.000000</td>\n",
       "      <td>47.000000</td>\n",
       "    </tr>\n",
       "  </tbody>\n",
       "</table>\n",
       "</div>"
      ],
      "text/plain": [
       "       weight_pounds  mother_age  gestation_weeks\n",
       "count     999.000000  999.000000       999.000000\n",
       "mean        4.236444   29.446446        30.708709\n",
       "std         2.361471   14.561489         6.952187\n",
       "min         0.500449   12.000000        17.000000\n",
       "25%         2.186986   15.000000        27.000000\n",
       "50%         3.624400   42.000000        30.000000\n",
       "75%         6.437498   43.000000        31.000000\n",
       "max        11.062796   52.000000        47.000000"
      ]
     },
     "execution_count": 53,
     "metadata": {},
     "output_type": "execute_result"
    }
   ],
   "source": [
    "df = pd.read_csv(\"./Data/babyweight_sample.csv\") \n",
    "print(df.plurality.head(5))\n",
    "df.describe()"
   ]
  },
  {
   "cell_type": "code",
   "execution_count": 54,
   "id": "847269f3",
   "metadata": {},
   "outputs": [],
   "source": [
    "CLASSES = {\n",
    "    'Single(1)': 0,\n",
    "    'Multiple(2+)': 1,\n",
    "    'Twins(2)': 2,\n",
    "    'Triplets(3)': 3,\n",
    "    'Quadruplets(4)': 4,\n",
    "    'Quintuplets(5)': 5\n",
    "}\n",
    "N_CLASSES = len(CLASSES)"
   ]
  },
  {
   "cell_type": "code",
   "execution_count": 55,
   "id": "567a980d",
   "metadata": {},
   "outputs": [
    {
     "name": "stdout",
     "output_type": "stream",
     "text": [
      "[0, 0, 0, 2, 0, 0, 0, 0, 0, 0, 0, 0, 0, 0, 0, 0, 0, 0, 0, 0, 0, 0, 0, 0, 0, 0, 3, 1, 0, 0, 0, 0, 0, 0, 0, 0, 1, 0, 1, 0, 0, 0, 0, 0, 0, 0, 0, 0, 1, 2, 0, 0, 0, 0, 2, 0, 0, 0, 0, 0, 0, 2, 1, 0, 0, 0, 2, 0, 0, 0, 2, 0, 0, 0, 1, 0, 1, 3, 1, 0, 1, 0, 0, 0, 0, 0, 0, 2, 0, 0, 2, 0, 0, 2, 0, 0, 2, 1, 2, 0, 0, 0, 0, 0, 0, 0, 0, 0, 0, 0, 0, 0, 0, 0, 0, 0, 0, 2, 0, 0, 0, 0, 0, 0, 0, 1, 0, 0, 0, 0, 0, 2, 1, 0, 0, 0, 0, 0, 2, 0, 0, 0, 0, 0, 2, 0, 0, 1, 0, 0, 0, 0, 0, 1, 0, 0, 0, 0, 0, 0, 0, 0, 0, 0, 0, 0, 0, 0, 0, 0, 0, 0, 0, 3, 1, 0, 0, 1, 0, 0, 0, 0, 0, 0, 0, 0, 0, 0, 0, 1, 0, 0, 0, 0, 0, 0, 0, 1, 0, 0, 0, 0, 0, 0, 1, 0, 0, 0, 0, 0, 2, 2, 0, 0, 0, 0, 0, 0, 2, 0, 2, 0, 0, 0, 0, 0, 0, 2, 0, 0, 0, 0, 0, 0, 0, 0, 0, 0, 0, 1, 3, 0, 0, 0, 2, 0, 0, 0, 0, 0, 0, 0, 2, 0, 0, 0, 1, 0, 1, 0, 2, 0, 0, 0, 0, 0, 0, 0, 2, 0, 0, 0, 0, 0, 2, 0, 0, 0, 0, 0, 2, 0, 0, 0, 2, 0, 0, 0, 0, 1, 0, 0, 0, 0, 0, 2, 0, 0, 0, 1, 0, 0, 0, 0, 0, 0, 0, 0, 0, 1, 2, 0, 0, 0, 0, 0, 0, 1, 0, 0, 0, 0, 0, 0, 0, 0, 0, 0, 4, 0, 1, 1, 0, 0, 0, 1, 0, 0, 1, 0, 0, 1, 1, 0, 1, 0, 0, 0, 0, 0, 0, 0, 1, 2, 0, 0, 0, 0, 0, 0, 0, 0, 2, 0, 0, 0, 0, 0, 0, 0, 0, 0, 0, 0, 0, 2, 0, 0, 0, 0, 0, 0, 0, 1, 0, 2, 0, 0, 0, 3, 0, 0, 0, 3, 0, 1, 0, 0, 0, 0, 0, 2, 0, 0, 1, 0, 0, 0, 0, 0, 1, 0, 0, 3, 0, 0, 0, 0, 0, 1, 2, 0, 0, 0, 0, 0, 1, 2, 0, 0, 0, 0, 0, 0, 0, 0, 0, 2, 0, 0, 0, 0, 0, 2, 0, 0, 0, 0, 0, 0, 0, 0, 0, 4, 0, 0, 0, 1, 3, 0, 0, 1, 0, 0, 1, 0, 0, 0, 0, 2, 0, 0, 0, 0, 1, 0, 2, 0, 0, 0, 2, 0, 1, 0, 0, 2, 0, 0, 0, 0, 0, 0, 0, 0, 0, 0, 0, 0, 0, 0, 0, 0, 1, 0, 0, 0, 2, 2, 0, 0, 0, 2, 0, 0, 0, 0, 0, 0, 0, 1, 0, 0, 0, 0, 1, 0, 0, 0, 1, 2, 0, 0, 0, 0, 0, 0, 0, 0, 1, 0, 0, 3, 0, 0, 1, 2, 2, 1, 0, 0, 0, 0, 2, 0, 0, 0, 2, 2, 0, 0, 2, 1, 1, 0, 2, 1, 0, 0, 0, 0, 3, 0, 1, 0, 0, 0, 1, 0, 0, 3, 0, 0, 0, 0, 0, 0, 0, 0, 0, 0, 0, 0, 0, 0, 0, 0, 0, 0, 0, 0, 0, 0, 0, 0, 0, 0, 0, 0, 2, 0, 2, 0, 0, 0, 0, 0, 0, 0, 0, 2, 2, 0, 1, 1, 0, 0, 2, 0, 0, 3, 2, 0, 3, 0, 2, 0, 3, 0, 0, 0, 2, 0, 0, 0, 1, 2, 0, 0, 0, 0, 0, 0, 0, 0, 0, 2, 0, 0, 0, 0, 0, 0, 0, 0, 0, 0, 0, 0, 0, 0, 0, 0, 0, 0, 0, 3, 1, 0, 3, 0, 0, 0, 0, 0, 0, 0, 0, 0, 0, 0, 0, 1, 0, 0, 2, 0, 0, 0, 0, 0, 0, 0, 0, 0, 0, 0, 0, 1, 0, 0, 0, 0, 0, 0, 0, 0, 3, 0, 0, 2, 0, 0, 0, 1, 0, 0, 0, 0, 2, 0, 0, 0, 0, 0, 0, 0, 0, 0, 0, 2, 0, 0, 0, 0, 0, 0, 0, 1, 0, 0, 0, 0, 0, 0, 1, 0, 0, 0, 0, 0, 1, 1, 0, 0, 0, 0, 0, 0, 0, 0, 0, 0, 0, 2, 0, 2, 0, 0, 0, 0, 3, 0, 3, 0, 1, 0, 0, 0, 0, 0, 2, 0, 0, 0, 0, 0, 2, 2, 0, 0, 0, 0, 1, 0, 0, 0, 0, 0, 0, 1, 0, 0, 0, 1, 0, 0, 0, 0, 2, 0, 0, 0, 0, 0, 0, 0, 0, 0, 0, 0, 0, 0, 0, 0, 0, 0, 0, 0, 0, 0, 0, 0, 0, 0, 0, 1, 1, 0, 0, 2, 0, 0, 0, 2, 0, 0, 0, 0, 0, 1, 0, 0, 0, 2, 0, 1, 0, 1, 0, 0, 2, 0, 0, 0, 0, 0, 0, 1, 0, 1, 0, 0, 1, 0, 2, 0, 1, 0, 0, 0, 0, 0, 0, 0, 0, 2, 0, 0, 2, 0, 0, 0, 0, 0, 0, 0, 2, 2, 0, 0, 0, 0, 0, 0, 0, 0, 1, 0, 3, 0, 0, 0, 0, 0, 0, 0, 0, 0, 0, 0, 0, 0, 0, 1, 0, 0, 0, 0, 0, 2, 0, 1, 0, 0, 1, 2, 0, 0, 0, 2, 0, 1, 0, 0, 0, 0, 0, 1, 0, 2, 0, 0, 0, 0, 0, 0, 2, 0, 0, 0, 0, 2, 0, 0, 1, 0, 0, 0, 0, 0, 0, 2, 0, 2, 0, 0, 0, 0, 0, 0, 2, 0, 0, 0, 0, 0, 0, 0, 0]\n"
     ]
    }
   ],
   "source": [
    "plurality_class = [CLASSES[plurality] for plurality in df.plurality]\n",
    "\"\"\"\n",
    "Here, CLASSES is a Python dictionary mapping string labels to integer codes. The expression CLASSES[plurality]\n",
    "uses the dictionary lookup operator [...] to retrieve the value associated with the key held in the variable plurality.\n",
    "– If plurality == 'Twins(2)', then CLASSES[plurality] returns 2.\n",
    "– If the key isn’t in the dictionary, you’d get a KeyError.\n",
    "\"\"\"\n",
    "print(plurality_class)"
   ]
  },
  {
   "cell_type": "code",
   "execution_count": null,
   "id": "c4e92df9",
   "metadata": {},
   "outputs": [],
   "source": []
  },
  {
   "cell_type": "code",
   "execution_count": 56,
   "id": "f4fdb09a",
   "metadata": {},
   "outputs": [
    {
     "data": {
      "text/plain": [
       "' \\n- plurality_class is a list like [0, 2, 1, 0, 3, ...] (the integer codes for each sample)\\n- tf.constant() converts it to a TensorFlow tensor\\n- The embedding layer looks up each integer and returns its corresponding 2D vector\\n'"
      ]
     },
     "execution_count": 56,
     "metadata": {},
     "output_type": "execute_result"
    }
   ],
   "source": [
    "EMBED_DIM = 2 # This defines that each category will be mapped to a 2-dimensional vector. We're going from 6 classes to 2 dimensions.\n",
    "\n",
    "embedding_layer = layers.Embedding(input_dim=N_CLASSES, # input_dim=N_CLASSES (which is 6): Tells the layer to expect integer inputs from 0 to 5\n",
    "                                   output_dim=EMBED_DIM) # output_dim=EMBED_DIM (which is 2): Each integer will be mapped to a 2D vector\n",
    "\n",
    "# Think of this as creating a lookup table\n",
    "\"\"\"\n",
    "Index 0 (Single)      → [random_value1, random_value2]\n",
    "Index 1 (Multiple)    → [random_value3, random_value4]\n",
    "Index 2 (Twins)       → [random_value5, random_value6]\n",
    "Index 3 (Triplets)    → [random_value7, random_value8]\n",
    "Index 4 (Quadruplets) → [random_value9, random_value10]\n",
    "Index 5 (Quintuplets) → [random_value11, random_value12]\n",
    "\"\"\"\n",
    "embeds = embedding_layer(tf.constant(plurality_class)) # Applying the Embedding\n",
    "\"\"\" \n",
    "- plurality_class is a list like [0, 2, 1, 0, 3, ...] (the integer codes for each sample)\n",
    "- tf.constant() converts it to a TensorFlow tensor\n",
    "- The embedding layer looks up each integer and returns its corresponding 2D vector\n",
    "\"\"\""
   ]
  },
  {
   "cell_type": "code",
   "execution_count": 57,
   "id": "9173879d",
   "metadata": {},
   "outputs": [
    {
     "data": {
      "text/plain": [
       "TensorShape([999, 2])"
      ]
     },
     "execution_count": 57,
     "metadata": {},
     "output_type": "execute_result"
    }
   ],
   "source": [
    "embeds.shape"
   ]
  },
  {
   "cell_type": "code",
   "execution_count": 58,
   "id": "07ca7a1d",
   "metadata": {},
   "outputs": [
    {
     "data": {
      "text/plain": [
       "<tf.Tensor: shape=(5, 2), dtype=float32, numpy=\n",
       "array([[ 0.00534659,  0.03388527],\n",
       "       [ 0.00534659,  0.03388527],\n",
       "       [ 0.00534659,  0.03388527],\n",
       "       [-0.01292281,  0.03612537],\n",
       "       [ 0.00534659,  0.03388527]], dtype=float32)>"
      ]
     },
     "execution_count": 58,
     "metadata": {},
     "output_type": "execute_result"
    }
   ],
   "source": [
    "\"\"\" This is the simplest form of embeddings where\n",
    "1. Lookup Table: The embedding layer creates a weight matrix of shape (6, 2) - essentially a lookup table\n",
    "2. Random Initialization: The embedding vectors start with random values\n",
    "3. Learned During Training: These vectors are updated through backpropagation during model training\n",
    "\"\"\"\n",
    "embeds[:5]\n",
    "# Output the first 5 embeddings"
   ]
  },
  {
   "cell_type": "code",
   "execution_count": 59,
   "id": "64efd0f4",
   "metadata": {},
   "outputs": [
    {
     "name": "stdout",
     "output_type": "stream",
     "text": [
      "[<Variable path=embedding_4/embeddings, shape=(6, 2), dtype=float32, value=[[ 0.00534659  0.03388527]\n",
      " [ 0.0274998   0.01116521]\n",
      " [-0.01292281  0.03612537]\n",
      " [-0.01845641 -0.01566969]\n",
      " [ 0.04408434 -0.03248636]\n",
      " [-0.03610598 -0.03820676]]>]\n"
     ]
    }
   ],
   "source": [
    "print(embedding_layer.weights, sep='\\n')"
   ]
  },
  {
   "cell_type": "code",
   "execution_count": 60,
   "id": "296b5f96",
   "metadata": {},
   "outputs": [
    {
     "name": "stdout",
     "output_type": "stream",
     "text": [
      "tf.Tensor([0.00534659 0.03388527], shape=(2,), dtype=float32)\n"
     ]
    }
   ],
   "source": [
    "print(embedding_layer.weights[0][plurality_class[0]])"
   ]
  },
  {
   "cell_type": "markdown",
   "id": "cb9aefbe",
   "metadata": {},
   "source": [
    "## Text embedding"
   ]
  },
  {
   "cell_type": "code",
   "execution_count": 61,
   "id": "9db63ee4",
   "metadata": {},
   "outputs": [],
   "source": [
    "# Task: predict which website an article comes from based on its title\n",
    "LOGDIR = \"./text_models\"\n",
    "DATA_DIR = \"./Data\""
   ]
  },
  {
   "cell_type": "code",
   "execution_count": 62,
   "id": "94623615",
   "metadata": {},
   "outputs": [
    {
     "data": {
      "text/html": [
       "<div>\n",
       "<style scoped>\n",
       "    .dataframe tbody tr th:only-of-type {\n",
       "        vertical-align: middle;\n",
       "    }\n",
       "\n",
       "    .dataframe tbody tr th {\n",
       "        vertical-align: top;\n",
       "    }\n",
       "\n",
       "    .dataframe thead th {\n",
       "        text-align: right;\n",
       "    }\n",
       "</style>\n",
       "<table border=\"1\" class=\"dataframe\">\n",
       "  <thead>\n",
       "    <tr style=\"text-align: right;\">\n",
       "      <th></th>\n",
       "      <th>title</th>\n",
       "      <th>source</th>\n",
       "    </tr>\n",
       "  </thead>\n",
       "  <tbody>\n",
       "    <tr>\n",
       "      <th>0</th>\n",
       "      <td>holy cash cow  batman - content is back</td>\n",
       "      <td>nytimes</td>\n",
       "    </tr>\n",
       "    <tr>\n",
       "      <th>1</th>\n",
       "      <td>show hn  a simple and configurable deployment ...</td>\n",
       "      <td>github</td>\n",
       "    </tr>\n",
       "    <tr>\n",
       "      <th>2</th>\n",
       "      <td>show hn  neural turing machine in pure numpy. ...</td>\n",
       "      <td>github</td>\n",
       "    </tr>\n",
       "    <tr>\n",
       "      <th>3</th>\n",
       "      <td>close look at a flu outbreak upends some commo...</td>\n",
       "      <td>nytimes</td>\n",
       "    </tr>\n",
       "    <tr>\n",
       "      <th>4</th>\n",
       "      <td>lambdalite  a functional  relational lisp data...</td>\n",
       "      <td>github</td>\n",
       "    </tr>\n",
       "    <tr>\n",
       "      <th>...</th>\n",
       "      <td>...</td>\n",
       "      <td>...</td>\n",
       "    </tr>\n",
       "    <tr>\n",
       "      <th>95</th>\n",
       "      <td>cooper union s free tuition tradition may be ...</td>\n",
       "      <td>nytimes</td>\n",
       "    </tr>\n",
       "    <tr>\n",
       "      <th>96</th>\n",
       "      <td>htmly  databaseless blogging platform  flat-fi...</td>\n",
       "      <td>github</td>\n",
       "    </tr>\n",
       "    <tr>\n",
       "      <th>97</th>\n",
       "      <td>a lightweight javaweb framework  concise and p...</td>\n",
       "      <td>github</td>\n",
       "    </tr>\n",
       "    <tr>\n",
       "      <th>98</th>\n",
       "      <td>transcription of dybvig s simple scheme interp...</td>\n",
       "      <td>github</td>\n",
       "    </tr>\n",
       "    <tr>\n",
       "      <th>99</th>\n",
       "      <td>show hn  mongoop   tame your mongodb slow oper...</td>\n",
       "      <td>github</td>\n",
       "    </tr>\n",
       "  </tbody>\n",
       "</table>\n",
       "<p>100 rows × 2 columns</p>\n",
       "</div>"
      ],
      "text/plain": [
       "                                                title   source\n",
       "0             holy cash cow  batman - content is back  nytimes\n",
       "1   show hn  a simple and configurable deployment ...   github\n",
       "2   show hn  neural turing machine in pure numpy. ...   github\n",
       "3   close look at a flu outbreak upends some commo...  nytimes\n",
       "4   lambdalite  a functional  relational lisp data...   github\n",
       "..                                                ...      ...\n",
       "95   cooper union s free tuition tradition may be ...  nytimes\n",
       "96  htmly  databaseless blogging platform  flat-fi...   github\n",
       "97  a lightweight javaweb framework  concise and p...   github\n",
       "98  transcription of dybvig s simple scheme interp...   github\n",
       "99  show hn  mongoop   tame your mongodb slow oper...   github\n",
       "\n",
       "[100 rows x 2 columns]"
      ]
     },
     "execution_count": 62,
     "metadata": {},
     "output_type": "execute_result"
    }
   ],
   "source": [
    "DATASET_NAME = \"titles_full.csv\"\n",
    "TITLE_SAMPLE_PATH = os.path.join(DATA_DIR, DATASET_NAME)\n",
    "COLUMNS = ['title', 'source']   # load the 2 columns of the dataset into a DataFrame with key names 'title' and 'source'\n",
    "\n",
    "titles_df = pd.read_csv(TITLE_SAMPLE_PATH, header=None, names=COLUMNS)\n",
    "titles_df.head(100)"
   ]
  },
  {
   "cell_type": "code",
   "execution_count": 63,
   "id": "826624c7",
   "metadata": {},
   "outputs": [],
   "source": [
    "tokenizer = Tokenizer() # Tokenizer creates a vocabulary mapping words → integers\n",
    "tokenizer.fit_on_texts(titles_df.title) # fit_on_texts() builds the vocabulary from all titles\n",
    "integerized_titles = tokenizer.texts_to_sequences(titles_df.title)  # texts_to_sequences() converts each title to a list of integers"
   ]
  },
  {
   "cell_type": "code",
   "execution_count": 64,
   "id": "b72c47ba",
   "metadata": {},
   "outputs": [
    {
     "data": {
      "text/plain": [
       "[[6117, 560, 8577, 13948, 302, 13, 172],\n",
       " [11, 12, 2, 49, 7, 3838, 1322, 91, 4, 28, 482],\n",
       " [11, 12, 1501, 2812, 322, 5, 589, 7337, 5458, 78, 108, 1989, 17, 1139]]"
      ]
     },
     "execution_count": 64,
     "metadata": {},
     "output_type": "execute_result"
    }
   ],
   "source": [
    "integerized_titles[:3]"
   ]
  },
  {
   "cell_type": "code",
   "execution_count": 65,
   "id": "4ac3e2a9",
   "metadata": {},
   "outputs": [
    {
     "name": "stdout",
     "output_type": "stream",
     "text": [
      "6117 → holy\n",
      "['holy', 'cash', 'cow', 'batman', 'content', 'is', 'back']\n"
     ]
    }
   ],
   "source": [
    "token_id = integerized_titles[0][0]\n",
    "word = tokenizer.index_word[token_id]         # maps ID → word\n",
    "print(f\"{token_id} → {word}\")\n",
    "\n",
    "# to decode a full sequence back into words:\n",
    "decoded = [tokenizer.index_word[id] for id in integerized_titles[0]]  # this create a list of words from the first title's integerized sequence\n",
    "print(decoded)"
   ]
  },
  {
   "cell_type": "code",
   "execution_count": 66,
   "id": "1b41c864",
   "metadata": {},
   "outputs": [
    {
     "data": {
      "text/plain": [
       "47271"
      ]
     },
     "execution_count": 66,
     "metadata": {},
     "output_type": "execute_result"
    }
   ],
   "source": [
    "VOCAB_SIZE = len(tokenizer.index_word) # Total unique words\n",
    "VOCAB_SIZE"
   ]
  },
  {
   "cell_type": "code",
   "execution_count": 67,
   "id": "419f8871",
   "metadata": {},
   "outputs": [
    {
     "data": {
      "text/plain": [
       "96203"
      ]
     },
     "execution_count": 67,
     "metadata": {},
     "output_type": "execute_result"
    }
   ],
   "source": [
    "DATASET_SIZE = tokenizer.document_count # Total number of titles\n",
    "DATASET_SIZE"
   ]
  },
  {
   "cell_type": "code",
   "execution_count": 68,
   "id": "7742bd12",
   "metadata": {},
   "outputs": [
    {
     "data": {
      "text/plain": [
       "26"
      ]
     },
     "execution_count": 68,
     "metadata": {},
     "output_type": "execute_result"
    }
   ],
   "source": [
    "MAX_LEN = max(len(sequence) for sequence in integerized_titles) # Longest title\n",
    "MAX_LEN"
   ]
  },
  {
   "cell_type": "code",
   "execution_count": 69,
   "id": "845eb398",
   "metadata": {},
   "outputs": [
    {
     "data": {
      "text/plain": [
       "\" IMPORTANT NOTE:\\nNeural networks need fixed-size inputs\\npad_sequences() adds zeros to make all sequences the same length\\npadding='post' adds zeros at the end\\n\""
      ]
     },
     "execution_count": 69,
     "metadata": {},
     "output_type": "execute_result"
    }
   ],
   "source": [
    "def create_sequences(texts, max_len=MAX_LEN):\n",
    "    sequences = tokenizer.texts_to_sequences(texts)\n",
    "    padded_sequences = pad_sequences(sequences,\n",
    "                                     max_len,\n",
    "                                     padding='post')\n",
    "    return padded_sequences\n",
    "\"\"\" IMPORTANT NOTE:\n",
    "Neural networks need fixed-size inputs\n",
    "pad_sequences() adds zeros to make all sequences the same length\n",
    "padding='post' adds zeros at the end\n",
    "\"\"\""
   ]
  },
  {
   "cell_type": "code",
   "execution_count": 70,
   "id": "dd451f71",
   "metadata": {},
   "outputs": [
    {
     "data": {
      "text/plain": [
       "array([[ 6117,   560,  8577, 13948,   302,    13,   172,     0,     0,\n",
       "            0,     0,     0,     0,     0,     0,     0,     0,     0,\n",
       "            0,     0,     0,     0,     0,     0,     0,     0],\n",
       "       [ 1030,   316,    23,     2,  3718,  7338, 13949,   214,   715,\n",
       "         4581,     0,     0,     0,     0,     0,     0,     0,     0,\n",
       "            0,     0,     0,     0,     0,     0,     0,     0]],\n",
       "      dtype=int32)"
      ]
     },
     "execution_count": 70,
     "metadata": {},
     "output_type": "execute_result"
    }
   ],
   "source": [
    "sample_titles = create_sequences([\"holy cash cow  batman - content is back\",\n",
    "                                 \"close look at a flu outbreak upends some common wisdom\"])\n",
    "sample_titles"
   ]
  },
  {
   "cell_type": "code",
   "execution_count": 71,
   "id": "cedbef1c",
   "metadata": {},
   "outputs": [],
   "source": [
    "CLASSES = {\n",
    "    'github': 0,\n",
    "    'nytimes': 1,\n",
    "    'techcrunch': 2\n",
    "}\n",
    "N_CLASSES = len(CLASSES)"
   ]
  },
  {
   "cell_type": "code",
   "execution_count": 72,
   "id": "ecf98be3",
   "metadata": {},
   "outputs": [
    {
     "data": {
      "text/plain": [
       "\" \\nConverts source labels to one-hot vectors:\\n'github' → [1, 0, 0]\\n'nytimes' → [0, 1, 0]\\n'techcrunch' → [0, 0, 1]\\n\""
      ]
     },
     "execution_count": 72,
     "metadata": {},
     "output_type": "execute_result"
    }
   ],
   "source": [
    "def encode_labels(sources):\n",
    "    classes = [CLASSES[source] for source in sources]\n",
    "    one_hots = utils.to_categorical(classes)\n",
    "    return one_hots\n",
    "\n",
    "\"\"\" \n",
    "Converts source labels to one-hot vectors:\n",
    "'github' → [1, 0, 0]\n",
    "'nytimes' → [0, 1, 0]\n",
    "'techcrunch' → [0, 0, 1]\n",
    "\"\"\""
   ]
  },
  {
   "cell_type": "code",
   "execution_count": 73,
   "id": "011305e0",
   "metadata": {},
   "outputs": [
    {
     "name": "stdout",
     "output_type": "stream",
     "text": [
      "Number of training samples: 76962\n"
     ]
    }
   ],
   "source": [
    "# Determine how many samples to use for training (80% of the total dataset)\n",
    "N_TRAIN = int(DATASET_SIZE * 0.8)\n",
    "print(\"Number of training samples: \" + str(N_TRAIN))\n",
    "\n",
    "# Load the CSV of titles and sources into a DataFrame\n",
    "# – header=None    : the file has no header row\n",
    "# – names=COLUMNS : assign our ['title', 'source'] column names\n",
    "titles_df = pd.read_csv(TITLE_SAMPLE_PATH, header=None, names=COLUMNS)\n",
    "\n",
    "# Slice out the first N_TRAIN rows for the training split\n",
    "# – titles_train  : the text inputs (titles) for training\n",
    "# – sources_train : the labels (source names) for training\n",
    "titles_train, sources_train = (\n",
    "    titles_df.title[:N_TRAIN],\n",
    "    titles_df.source[:N_TRAIN]\n",
    ")\n",
    "\n",
    "# Slice the remaining rows for validation\n",
    "# – titles_valid  : the text inputs for validation\n",
    "# – sources_valid : the labels for validation\n",
    "titles_valid, sources_valid = (\n",
    "    titles_df.title[N_TRAIN:],\n",
    "    titles_df.source[N_TRAIN:]\n",
    ")"
   ]
  },
  {
   "cell_type": "code",
   "execution_count": 74,
   "id": "a563f474",
   "metadata": {},
   "outputs": [],
   "source": [
    "X_train, Y_train = create_sequences(titles_train), encode_labels(sources_train)\n",
    "X_valid, Y_valid = create_sequences(titles_valid), encode_labels(sources_valid)"
   ]
  },
  {
   "cell_type": "code",
   "execution_count": 75,
   "id": "63fa39a3",
   "metadata": {},
   "outputs": [],
   "source": [
    "\t\n",
    "def build_dnn_model(embed_dim):\n",
    "\n",
    "    model = models.Sequential([\n",
    "        # Embedding Layer:\n",
    "        #   Input:  (batch_size, MAX_LEN)         — sequences of word indices\n",
    "        #   Output: (batch_size, MAX_LEN, embed_dim) — sequences of dense vectors\n",
    "        #   Learns a lookup table mapping each word index → embed_dim-length vector\n",
    "        layers.Embedding(VOCAB_SIZE + 1,\n",
    "                         embed_dim,\n",
    "                         input_shape=[MAX_LEN]),\n",
    "\n",
    "        # Lambda Layer (Average Pooling):\n",
    "        #   Input:  (batch_size, MAX_LEN, embed_dim)\n",
    "        #   Output: (batch_size, embed_dim)\n",
    "        #   Averages over the time dimension to get one fixed-size vector per sample\n",
    "        layers.Lambda(lambda x: tf.reduce_mean(x, axis=1)),\n",
    "\n",
    "        # Dense Layer:\n",
    "        #   Input:  (batch_size, embed_dim)\n",
    "        #   Output: (batch_size, N_CLASSES)\n",
    "        #   Softmax activation to produce a probability distribution over classes\n",
    "        layers.Dense(N_CLASSES, activation='softmax')\n",
    "    ])\n",
    "\n",
    "    model.compile(\n",
    "        optimizer='adam',                 # Adam optimizer\n",
    "        loss='categorical_crossentropy',  # loss for multi-class classification\n",
    "        metrics=['accuracy']              # track accuracy during training\n",
    "    )\n",
    "    return model"
   ]
  },
  {
   "cell_type": "code",
   "execution_count": 76,
   "id": "ddd38522",
   "metadata": {},
   "outputs": [
    {
     "data": {
      "text/plain": [
       "('holy cash cow  batman - content is back',\n",
       " array([ 6117,   560,  8577, 13948,   302,    13,   172,     0,     0,\n",
       "            0,     0,     0,     0,     0,     0,     0,     0,     0,\n",
       "            0,     0,     0,     0,     0,     0,     0,     0],\n",
       "       dtype=int32),\n",
       " array([0., 1., 0.]),\n",
       " 'nytimes')"
      ]
     },
     "execution_count": 76,
     "metadata": {},
     "output_type": "execute_result"
    }
   ],
   "source": [
    "titles_train[0], X_train[0], Y_train[0], sources_train[0]"
   ]
  },
  {
   "cell_type": "code",
   "execution_count": 77,
   "id": "ea9c2552",
   "metadata": {},
   "outputs": [
    {
     "name": "stdout",
     "output_type": "stream",
     "text": [
      "Epoch 1/100\n"
     ]
    },
    {
     "name": "stderr",
     "output_type": "stream",
     "text": [
      "/home/edward99/github/datenvorbearbeitung/.venv/lib/python3.12/site-packages/keras/src/layers/core/embedding.py:100: UserWarning: Do not pass an `input_shape`/`input_dim` argument to a layer. When using Sequential models, prefer using an `Input(shape)` object as the first layer in the model instead.\n",
      "  super().__init__(**kwargs)\n"
     ]
    },
    {
     "name": "stdout",
     "output_type": "stream",
     "text": [
      "\u001b[1m257/257\u001b[0m \u001b[32m━━━━━━━━━━━━━━━━━━━━\u001b[0m\u001b[37m\u001b[0m \u001b[1m1s\u001b[0m 3ms/step - accuracy: 0.3984 - loss: 1.0659 - val_accuracy: 0.6682 - val_loss: 0.9335\n",
      "Epoch 2/100\n",
      "\u001b[1m257/257\u001b[0m \u001b[32m━━━━━━━━━━━━━━━━━━━━\u001b[0m\u001b[37m\u001b[0m \u001b[1m1s\u001b[0m 3ms/step - accuracy: 0.6923 - loss: 0.8825 - val_accuracy: 0.7643 - val_loss: 0.7548\n",
      "Epoch 3/100\n",
      "\u001b[1m257/257\u001b[0m \u001b[32m━━━━━━━━━━━━━━━━━━━━\u001b[0m\u001b[37m\u001b[0m \u001b[1m1s\u001b[0m 2ms/step - accuracy: 0.7720 - loss: 0.7199 - val_accuracy: 0.7918 - val_loss: 0.6444\n",
      "Epoch 4/100\n",
      "\u001b[1m257/257\u001b[0m \u001b[32m━━━━━━━━━━━━━━━━━━━━\u001b[0m\u001b[37m\u001b[0m \u001b[1m1s\u001b[0m 2ms/step - accuracy: 0.8016 - loss: 0.6144 - val_accuracy: 0.8072 - val_loss: 0.5682\n",
      "Epoch 5/100\n",
      "\u001b[1m257/257\u001b[0m \u001b[32m━━━━━━━━━━━━━━━━━━━━\u001b[0m\u001b[37m\u001b[0m \u001b[1m1s\u001b[0m 3ms/step - accuracy: 0.8204 - loss: 0.5390 - val_accuracy: 0.8188 - val_loss: 0.5145\n",
      "Epoch 6/100\n",
      "\u001b[1m257/257\u001b[0m \u001b[32m━━━━━━━━━━━━━━━━━━━━\u001b[0m\u001b[37m\u001b[0m \u001b[1m1s\u001b[0m 3ms/step - accuracy: 0.8345 - loss: 0.4842 - val_accuracy: 0.8269 - val_loss: 0.4764\n",
      "Epoch 7/100\n",
      "\u001b[1m257/257\u001b[0m \u001b[32m━━━━━━━━━━━━━━━━━━━━\u001b[0m\u001b[37m\u001b[0m \u001b[1m1s\u001b[0m 2ms/step - accuracy: 0.8460 - loss: 0.4433 - val_accuracy: 0.8331 - val_loss: 0.4486\n",
      "Epoch 8/100\n",
      "\u001b[1m257/257\u001b[0m \u001b[32m━━━━━━━━━━━━━━━━━━━━\u001b[0m\u001b[37m\u001b[0m \u001b[1m1s\u001b[0m 3ms/step - accuracy: 0.8538 - loss: 0.4117 - val_accuracy: 0.8382 - val_loss: 0.4277\n",
      "Epoch 9/100\n",
      "\u001b[1m257/257\u001b[0m \u001b[32m━━━━━━━━━━━━━━━━━━━━\u001b[0m\u001b[37m\u001b[0m \u001b[1m1s\u001b[0m 3ms/step - accuracy: 0.8610 - loss: 0.3863 - val_accuracy: 0.8421 - val_loss: 0.4116\n",
      "Epoch 10/100\n",
      "\u001b[1m257/257\u001b[0m \u001b[32m━━━━━━━━━━━━━━━━━━━━\u001b[0m\u001b[37m\u001b[0m \u001b[1m1s\u001b[0m 3ms/step - accuracy: 0.8677 - loss: 0.3651 - val_accuracy: 0.8445 - val_loss: 0.3989\n",
      "Epoch 11/100\n",
      "\u001b[1m257/257\u001b[0m \u001b[32m━━━━━━━━━━━━━━━━━━━━\u001b[0m\u001b[37m\u001b[0m \u001b[1m1s\u001b[0m 2ms/step - accuracy: 0.8736 - loss: 0.3471 - val_accuracy: 0.8478 - val_loss: 0.3888\n",
      "Epoch 12/100\n",
      "\u001b[1m257/257\u001b[0m \u001b[32m━━━━━━━━━━━━━━━━━━━━\u001b[0m\u001b[37m\u001b[0m \u001b[1m1s\u001b[0m 3ms/step - accuracy: 0.8794 - loss: 0.3313 - val_accuracy: 0.8498 - val_loss: 0.3806\n",
      "Epoch 13/100\n",
      "\u001b[1m257/257\u001b[0m \u001b[32m━━━━━━━━━━━━━━━━━━━━\u001b[0m\u001b[37m\u001b[0m \u001b[1m1s\u001b[0m 2ms/step - accuracy: 0.8848 - loss: 0.3173 - val_accuracy: 0.8518 - val_loss: 0.3740\n",
      "Epoch 14/100\n",
      "\u001b[1m257/257\u001b[0m \u001b[32m━━━━━━━━━━━━━━━━━━━━\u001b[0m\u001b[37m\u001b[0m \u001b[1m1s\u001b[0m 3ms/step - accuracy: 0.8894 - loss: 0.3047 - val_accuracy: 0.8528 - val_loss: 0.3686\n",
      "Epoch 15/100\n",
      "\u001b[1m257/257\u001b[0m \u001b[32m━━━━━━━━━━━━━━━━━━━━\u001b[0m\u001b[37m\u001b[0m \u001b[1m1s\u001b[0m 2ms/step - accuracy: 0.8931 - loss: 0.2932 - val_accuracy: 0.8533 - val_loss: 0.3643\n",
      "Epoch 16/100\n",
      "\u001b[1m257/257\u001b[0m \u001b[32m━━━━━━━━━━━━━━━━━━━━\u001b[0m\u001b[37m\u001b[0m \u001b[1m1s\u001b[0m 2ms/step - accuracy: 0.8973 - loss: 0.2827 - val_accuracy: 0.8542 - val_loss: 0.3609\n",
      "Epoch 17/100\n",
      "\u001b[1m257/257\u001b[0m \u001b[32m━━━━━━━━━━━━━━━━━━━━\u001b[0m\u001b[37m\u001b[0m \u001b[1m1s\u001b[0m 2ms/step - accuracy: 0.9010 - loss: 0.2730 - val_accuracy: 0.8551 - val_loss: 0.3582\n",
      "Epoch 18/100\n",
      "\u001b[1m257/257\u001b[0m \u001b[32m━━━━━━━━━━━━━━━━━━━━\u001b[0m\u001b[37m\u001b[0m \u001b[1m1s\u001b[0m 2ms/step - accuracy: 0.9047 - loss: 0.2639 - val_accuracy: 0.8559 - val_loss: 0.3562\n",
      "Epoch 19/100\n",
      "\u001b[1m257/257\u001b[0m \u001b[32m━━━━━━━━━━━━━━━━━━━━\u001b[0m\u001b[37m\u001b[0m \u001b[1m1s\u001b[0m 2ms/step - accuracy: 0.9078 - loss: 0.2555 - val_accuracy: 0.8576 - val_loss: 0.3547\n",
      "Epoch 20/100\n",
      "\u001b[1m257/257\u001b[0m \u001b[32m━━━━━━━━━━━━━━━━━━━━\u001b[0m\u001b[37m\u001b[0m \u001b[1m1s\u001b[0m 3ms/step - accuracy: 0.9108 - loss: 0.2475 - val_accuracy: 0.8582 - val_loss: 0.3538\n",
      "Epoch 21/100\n",
      "\u001b[1m257/257\u001b[0m \u001b[32m━━━━━━━━━━━━━━━━━━━━\u001b[0m\u001b[37m\u001b[0m \u001b[1m1s\u001b[0m 3ms/step - accuracy: 0.9132 - loss: 0.2401 - val_accuracy: 0.8584 - val_loss: 0.3534\n",
      "Epoch 22/100\n",
      "\u001b[1m257/257\u001b[0m \u001b[32m━━━━━━━━━━━━━━━━━━━━\u001b[0m\u001b[37m\u001b[0m \u001b[1m1s\u001b[0m 2ms/step - accuracy: 0.9154 - loss: 0.2330 - val_accuracy: 0.8577 - val_loss: 0.3534\n",
      "Epoch 23/100\n",
      "\u001b[1m257/257\u001b[0m \u001b[32m━━━━━━━━━━━━━━━━━━━━\u001b[0m\u001b[37m\u001b[0m \u001b[1m1s\u001b[0m 3ms/step - accuracy: 0.9180 - loss: 0.2263 - val_accuracy: 0.8574 - val_loss: 0.3538\n"
     ]
    },
    {
     "data": {
      "text/html": [
       "<pre style=\"white-space:pre;overflow-x:auto;line-height:normal;font-family:Menlo,'DejaVu Sans Mono',consolas,'Courier New',monospace\"><span style=\"font-weight: bold\">Model: \"sequential\"</span>\n",
       "</pre>\n"
      ],
      "text/plain": [
       "\u001b[1mModel: \"sequential\"\u001b[0m\n"
      ]
     },
     "metadata": {},
     "output_type": "display_data"
    },
    {
     "data": {
      "text/html": [
       "<pre style=\"white-space:pre;overflow-x:auto;line-height:normal;font-family:Menlo,'DejaVu Sans Mono',consolas,'Courier New',monospace\">┏━━━━━━━━━━━━━━━━━━━━━━━━━━━━━━━━━┳━━━━━━━━━━━━━━━━━━━━━━━━┳━━━━━━━━━━━━━━━┓\n",
       "┃<span style=\"font-weight: bold\"> Layer (type)                    </span>┃<span style=\"font-weight: bold\"> Output Shape           </span>┃<span style=\"font-weight: bold\">       Param # </span>┃\n",
       "┡━━━━━━━━━━━━━━━━━━━━━━━━━━━━━━━━━╇━━━━━━━━━━━━━━━━━━━━━━━━╇━━━━━━━━━━━━━━━┩\n",
       "│ embedding_5 (<span style=\"color: #0087ff; text-decoration-color: #0087ff\">Embedding</span>)         │ (<span style=\"color: #00d7ff; text-decoration-color: #00d7ff\">None</span>, <span style=\"color: #00af00; text-decoration-color: #00af00\">26</span>, <span style=\"color: #00af00; text-decoration-color: #00af00\">10</span>)         │       <span style=\"color: #00af00; text-decoration-color: #00af00\">472,720</span> │\n",
       "├─────────────────────────────────┼────────────────────────┼───────────────┤\n",
       "│ lambda (<span style=\"color: #0087ff; text-decoration-color: #0087ff\">Lambda</span>)                 │ (<span style=\"color: #00d7ff; text-decoration-color: #00d7ff\">None</span>, <span style=\"color: #00af00; text-decoration-color: #00af00\">10</span>)             │             <span style=\"color: #00af00; text-decoration-color: #00af00\">0</span> │\n",
       "├─────────────────────────────────┼────────────────────────┼───────────────┤\n",
       "│ dense (<span style=\"color: #0087ff; text-decoration-color: #0087ff\">Dense</span>)                   │ (<span style=\"color: #00d7ff; text-decoration-color: #00d7ff\">None</span>, <span style=\"color: #00af00; text-decoration-color: #00af00\">3</span>)              │            <span style=\"color: #00af00; text-decoration-color: #00af00\">33</span> │\n",
       "└─────────────────────────────────┴────────────────────────┴───────────────┘\n",
       "</pre>\n"
      ],
      "text/plain": [
       "┏━━━━━━━━━━━━━━━━━━━━━━━━━━━━━━━━━┳━━━━━━━━━━━━━━━━━━━━━━━━┳━━━━━━━━━━━━━━━┓\n",
       "┃\u001b[1m \u001b[0m\u001b[1mLayer (type)                   \u001b[0m\u001b[1m \u001b[0m┃\u001b[1m \u001b[0m\u001b[1mOutput Shape          \u001b[0m\u001b[1m \u001b[0m┃\u001b[1m \u001b[0m\u001b[1m      Param #\u001b[0m\u001b[1m \u001b[0m┃\n",
       "┡━━━━━━━━━━━━━━━━━━━━━━━━━━━━━━━━━╇━━━━━━━━━━━━━━━━━━━━━━━━╇━━━━━━━━━━━━━━━┩\n",
       "│ embedding_5 (\u001b[38;5;33mEmbedding\u001b[0m)         │ (\u001b[38;5;45mNone\u001b[0m, \u001b[38;5;34m26\u001b[0m, \u001b[38;5;34m10\u001b[0m)         │       \u001b[38;5;34m472,720\u001b[0m │\n",
       "├─────────────────────────────────┼────────────────────────┼───────────────┤\n",
       "│ lambda (\u001b[38;5;33mLambda\u001b[0m)                 │ (\u001b[38;5;45mNone\u001b[0m, \u001b[38;5;34m10\u001b[0m)             │             \u001b[38;5;34m0\u001b[0m │\n",
       "├─────────────────────────────────┼────────────────────────┼───────────────┤\n",
       "│ dense (\u001b[38;5;33mDense\u001b[0m)                   │ (\u001b[38;5;45mNone\u001b[0m, \u001b[38;5;34m3\u001b[0m)              │            \u001b[38;5;34m33\u001b[0m │\n",
       "└─────────────────────────────────┴────────────────────────┴───────────────┘\n"
      ]
     },
     "metadata": {},
     "output_type": "display_data"
    },
    {
     "data": {
      "text/html": [
       "<pre style=\"white-space:pre;overflow-x:auto;line-height:normal;font-family:Menlo,'DejaVu Sans Mono',consolas,'Courier New',monospace\"><span style=\"font-weight: bold\"> Total params: </span><span style=\"color: #00af00; text-decoration-color: #00af00\">1,418,261</span> (5.41 MB)\n",
       "</pre>\n"
      ],
      "text/plain": [
       "\u001b[1m Total params: \u001b[0m\u001b[38;5;34m1,418,261\u001b[0m (5.41 MB)\n"
      ]
     },
     "metadata": {},
     "output_type": "display_data"
    },
    {
     "data": {
      "text/html": [
       "<pre style=\"white-space:pre;overflow-x:auto;line-height:normal;font-family:Menlo,'DejaVu Sans Mono',consolas,'Courier New',monospace\"><span style=\"font-weight: bold\"> Trainable params: </span><span style=\"color: #00af00; text-decoration-color: #00af00\">472,753</span> (1.80 MB)\n",
       "</pre>\n"
      ],
      "text/plain": [
       "\u001b[1m Trainable params: \u001b[0m\u001b[38;5;34m472,753\u001b[0m (1.80 MB)\n"
      ]
     },
     "metadata": {},
     "output_type": "display_data"
    },
    {
     "data": {
      "text/html": [
       "<pre style=\"white-space:pre;overflow-x:auto;line-height:normal;font-family:Menlo,'DejaVu Sans Mono',consolas,'Courier New',monospace\"><span style=\"font-weight: bold\"> Non-trainable params: </span><span style=\"color: #00af00; text-decoration-color: #00af00\">0</span> (0.00 B)\n",
       "</pre>\n"
      ],
      "text/plain": [
       "\u001b[1m Non-trainable params: \u001b[0m\u001b[38;5;34m0\u001b[0m (0.00 B)\n"
      ]
     },
     "metadata": {},
     "output_type": "display_data"
    },
    {
     "data": {
      "text/html": [
       "<pre style=\"white-space:pre;overflow-x:auto;line-height:normal;font-family:Menlo,'DejaVu Sans Mono',consolas,'Courier New',monospace\"><span style=\"font-weight: bold\"> Optimizer params: </span><span style=\"color: #00af00; text-decoration-color: #00af00\">945,508</span> (3.61 MB)\n",
       "</pre>\n"
      ],
      "text/plain": [
       "\u001b[1m Optimizer params: \u001b[0m\u001b[38;5;34m945,508\u001b[0m (3.61 MB)\n"
      ]
     },
     "metadata": {},
     "output_type": "display_data"
    },
    {
     "name": "stdout",
     "output_type": "stream",
     "text": [
      "CPU times: user 24.9 s, sys: 23.6 s, total: 48.4 s\n",
      "Wall time: 16.2 s\n"
     ]
    },
    {
     "data": {
      "image/png": "[encoded data removed]",
      "text/plain": [
       "<Figure size 640x480 with 1 Axes>"
      ]
     },
     "metadata": {},
     "output_type": "display_data"
    },
    {
     "data": {
      "image/png": "[encoded data removed]",
      "text/plain": [
       "<Figure size 640x480 with 1 Axes>"
      ]
     },
     "metadata": {},
     "output_type": "display_data"
    }
   ],
   "source": [
    "%%time\n",
    "\n",
    "tf.random.set_seed(33)\n",
    "\n",
    "MODEL_DIR = os.path.join(LOGDIR, 'dnn')\n",
    "#shutil.rmtree(MODEL_DIR, ignore_errors=True)\n",
    "\n",
    "BATCH_SIZE = 300\n",
    "EPOCHS = 100\n",
    "EMBED_DIM = 10\n",
    "PATIENCE = 0\n",
    "\n",
    "dnn_model = build_dnn_model(embed_dim=EMBED_DIM)\n",
    "\n",
    "dnn_history = dnn_model.fit(\n",
    "    X_train, Y_train,\n",
    "    epochs=EPOCHS,\n",
    "    batch_size=BATCH_SIZE,\n",
    "    validation_data=(X_valid, Y_valid),\n",
    "    callbacks=[callbacks.EarlyStopping(patience=PATIENCE),\n",
    "               callbacks.TensorBoard(MODEL_DIR)],\n",
    ")\n",
    "\n",
    "pd.DataFrame(dnn_history.history)[['loss', 'val_loss']].plot()\n",
    "pd.DataFrame(dnn_history.history)[['accuracy', 'val_accuracy']].plot()\n",
    "\n",
    "dnn_model.summary()"
   ]
  }
 ],
 "metadata": {
  "kernelspec": {
   "display_name": ".venv (3.12.3)",
   "language": "python",
   "name": "python3"
  },
  "language_info": {
   "codemirror_mode": {
    "name": "ipython",
    "version": 3
   },
   "file_extension": ".py",
   "mimetype": "text/x-python",
   "name": "python",
   "nbconvert_exporter": "python",
   "pygments_lexer": "ipython3",
   "version": "3.12.3"
  }
 },
 "nbformat": 4,
 "nbformat_minor": 5
}
