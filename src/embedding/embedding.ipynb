{
 "cells": [
  {
   "cell_type": "code",
   "execution_count": 117,
   "id": "89953c8c",
   "metadata": {},
   "outputs": [],
   "source": [
    "import os\n",
    "\n",
    "import pandas as pd\n",
    "import tensorflow as tf\n",
    "\n",
    "from tensorflow import keras\n",
    "from tensorflow.keras import callbacks, layers, models, utils\n",
    "from tensorflow.keras.preprocessing.text import Tokenizer\n",
    "from tensorflow.keras.preprocessing.sequence import pad_sequences"
   ]
  },
  {
   "cell_type": "code",
   "execution_count": 130,
   "id": "0334edb9",
   "metadata": {},
   "outputs": [
    {
     "data": {
      "text/html": [
       "<div>\n",
       "<style scoped>\n",
       "    .dataframe tbody tr th:only-of-type {\n",
       "        vertical-align: middle;\n",
       "    }\n",
       "\n",
       "    .dataframe tbody tr th {\n",
       "        vertical-align: top;\n",
       "    }\n",
       "\n",
       "    .dataframe thead th {\n",
       "        text-align: right;\n",
       "    }\n",
       "</style>\n",
       "<table border=\"1\" class=\"dataframe\">\n",
       "  <thead>\n",
       "    <tr style=\"text-align: right;\">\n",
       "      <th></th>\n",
       "      <th>weight_pounds</th>\n",
       "      <th>mother_age</th>\n",
       "      <th>gestation_weeks</th>\n",
       "    </tr>\n",
       "  </thead>\n",
       "  <tbody>\n",
       "    <tr>\n",
       "      <th>count</th>\n",
       "      <td>999.000000</td>\n",
       "      <td>999.000000</td>\n",
       "      <td>999.000000</td>\n",
       "    </tr>\n",
       "    <tr>\n",
       "      <th>mean</th>\n",
       "      <td>4.236444</td>\n",
       "      <td>29.446446</td>\n",
       "      <td>30.708709</td>\n",
       "    </tr>\n",
       "    <tr>\n",
       "      <th>std</th>\n",
       "      <td>2.361471</td>\n",
       "      <td>14.561489</td>\n",
       "      <td>6.952187</td>\n",
       "    </tr>\n",
       "    <tr>\n",
       "      <th>min</th>\n",
       "      <td>0.500449</td>\n",
       "      <td>12.000000</td>\n",
       "      <td>17.000000</td>\n",
       "    </tr>\n",
       "    <tr>\n",
       "      <th>25%</th>\n",
       "      <td>2.186986</td>\n",
       "      <td>15.000000</td>\n",
       "      <td>27.000000</td>\n",
       "    </tr>\n",
       "    <tr>\n",
       "      <th>50%</th>\n",
       "      <td>3.624400</td>\n",
       "      <td>42.000000</td>\n",
       "      <td>30.000000</td>\n",
       "    </tr>\n",
       "    <tr>\n",
       "      <th>75%</th>\n",
       "      <td>6.437498</td>\n",
       "      <td>43.000000</td>\n",
       "      <td>31.000000</td>\n",
       "    </tr>\n",
       "    <tr>\n",
       "      <th>max</th>\n",
       "      <td>11.062796</td>\n",
       "      <td>52.000000</td>\n",
       "      <td>47.000000</td>\n",
       "    </tr>\n",
       "  </tbody>\n",
       "</table>\n",
       "</div>"
      ],
      "text/plain": [
       "       weight_pounds  mother_age  gestation_weeks\n",
       "count     999.000000  999.000000       999.000000\n",
       "mean        4.236444   29.446446        30.708709\n",
       "std         2.361471   14.561489         6.952187\n",
       "min         0.500449   12.000000        17.000000\n",
       "25%         2.186986   15.000000        27.000000\n",
       "50%         3.624400   42.000000        30.000000\n",
       "75%         6.437498   43.000000        31.000000\n",
       "max        11.062796   52.000000        47.000000"
      ]
     },
     "execution_count": 130,
     "metadata": {},
     "output_type": "execute_result"
    }
   ],
   "source": [
    "df = pd.read_csv(\"./Data/babyweight_sample.csv\") \n",
    "df.plurality.head(5)\n",
    "df.describe()"
   ]
  },
  {
   "cell_type": "code",
   "execution_count": 119,
   "id": "847269f3",
   "metadata": {},
   "outputs": [],
   "source": [
    "CLASSES = {\n",
    "    'Single(1)': 0,\n",
    "    'Multiple(2+)': 1,\n",
    "    'Twins(2)': 2,\n",
    "    'Triplets(3)': 3,\n",
    "    'Quadruplets(4)': 4,\n",
    "    'Quintuplets(5)': 5\n",
    "}\n",
    "N_CLASSES = len(CLASSES)"
   ]
  },
  {
   "cell_type": "code",
   "execution_count": 120,
   "id": "567a980d",
   "metadata": {},
   "outputs": [
    {
     "name": "stdout",
     "output_type": "stream",
     "text": [
      "[0, 0, 0, 2, 0, 0, 0, 0, 0, 0, 0, 0, 0, 0, 0, 0, 0, 0, 0, 0, 0, 0, 0, 0, 0, 0, 3, 1, 0, 0, 0, 0, 0, 0, 0, 0, 1, 0, 1, 0, 0, 0, 0, 0, 0, 0, 0, 0, 1, 2, 0, 0, 0, 0, 2, 0, 0, 0, 0, 0, 0, 2, 1, 0, 0, 0, 2, 0, 0, 0, 2, 0, 0, 0, 1, 0, 1, 3, 1, 0, 1, 0, 0, 0, 0, 0, 0, 2, 0, 0, 2, 0, 0, 2, 0, 0, 2, 1, 2, 0, 0, 0, 0, 0, 0, 0, 0, 0, 0, 0, 0, 0, 0, 0, 0, 0, 0, 2, 0, 0, 0, 0, 0, 0, 0, 1, 0, 0, 0, 0, 0, 2, 1, 0, 0, 0, 0, 0, 2, 0, 0, 0, 0, 0, 2, 0, 0, 1, 0, 0, 0, 0, 0, 1, 0, 0, 0, 0, 0, 0, 0, 0, 0, 0, 0, 0, 0, 0, 0, 0, 0, 0, 0, 3, 1, 0, 0, 1, 0, 0, 0, 0, 0, 0, 0, 0, 0, 0, 0, 1, 0, 0, 0, 0, 0, 0, 0, 1, 0, 0, 0, 0, 0, 0, 1, 0, 0, 0, 0, 0, 2, 2, 0, 0, 0, 0, 0, 0, 2, 0, 2, 0, 0, 0, 0, 0, 0, 2, 0, 0, 0, 0, 0, 0, 0, 0, 0, 0, 0, 1, 3, 0, 0, 0, 2, 0, 0, 0, 0, 0, 0, 0, 2, 0, 0, 0, 1, 0, 1, 0, 2, 0, 0, 0, 0, 0, 0, 0, 2, 0, 0, 0, 0, 0, 2, 0, 0, 0, 0, 0, 2, 0, 0, 0, 2, 0, 0, 0, 0, 1, 0, 0, 0, 0, 0, 2, 0, 0, 0, 1, 0, 0, 0, 0, 0, 0, 0, 0, 0, 1, 2, 0, 0, 0, 0, 0, 0, 1, 0, 0, 0, 0, 0, 0, 0, 0, 0, 0, 4, 0, 1, 1, 0, 0, 0, 1, 0, 0, 1, 0, 0, 1, 1, 0, 1, 0, 0, 0, 0, 0, 0, 0, 1, 2, 0, 0, 0, 0, 0, 0, 0, 0, 2, 0, 0, 0, 0, 0, 0, 0, 0, 0, 0, 0, 0, 2, 0, 0, 0, 0, 0, 0, 0, 1, 0, 2, 0, 0, 0, 3, 0, 0, 0, 3, 0, 1, 0, 0, 0, 0, 0, 2, 0, 0, 1, 0, 0, 0, 0, 0, 1, 0, 0, 3, 0, 0, 0, 0, 0, 1, 2, 0, 0, 0, 0, 0, 1, 2, 0, 0, 0, 0, 0, 0, 0, 0, 0, 2, 0, 0, 0, 0, 0, 2, 0, 0, 0, 0, 0, 0, 0, 0, 0, 4, 0, 0, 0, 1, 3, 0, 0, 1, 0, 0, 1, 0, 0, 0, 0, 2, 0, 0, 0, 0, 1, 0, 2, 0, 0, 0, 2, 0, 1, 0, 0, 2, 0, 0, 0, 0, 0, 0, 0, 0, 0, 0, 0, 0, 0, 0, 0, 0, 1, 0, 0, 0, 2, 2, 0, 0, 0, 2, 0, 0, 0, 0, 0, 0, 0, 1, 0, 0, 0, 0, 1, 0, 0, 0, 1, 2, 0, 0, 0, 0, 0, 0, 0, 0, 1, 0, 0, 3, 0, 0, 1, 2, 2, 1, 0, 0, 0, 0, 2, 0, 0, 0, 2, 2, 0, 0, 2, 1, 1, 0, 2, 1, 0, 0, 0, 0, 3, 0, 1, 0, 0, 0, 1, 0, 0, 3, 0, 0, 0, 0, 0, 0, 0, 0, 0, 0, 0, 0, 0, 0, 0, 0, 0, 0, 0, 0, 0, 0, 0, 0, 0, 0, 0, 0, 2, 0, 2, 0, 0, 0, 0, 0, 0, 0, 0, 2, 2, 0, 1, 1, 0, 0, 2, 0, 0, 3, 2, 0, 3, 0, 2, 0, 3, 0, 0, 0, 2, 0, 0, 0, 1, 2, 0, 0, 0, 0, 0, 0, 0, 0, 0, 2, 0, 0, 0, 0, 0, 0, 0, 0, 0, 0, 0, 0, 0, 0, 0, 0, 0, 0, 0, 3, 1, 0, 3, 0, 0, 0, 0, 0, 0, 0, 0, 0, 0, 0, 0, 1, 0, 0, 2, 0, 0, 0, 0, 0, 0, 0, 0, 0, 0, 0, 0, 1, 0, 0, 0, 0, 0, 0, 0, 0, 3, 0, 0, 2, 0, 0, 0, 1, 0, 0, 0, 0, 2, 0, 0, 0, 0, 0, 0, 0, 0, 0, 0, 2, 0, 0, 0, 0, 0, 0, 0, 1, 0, 0, 0, 0, 0, 0, 1, 0, 0, 0, 0, 0, 1, 1, 0, 0, 0, 0, 0, 0, 0, 0, 0, 0, 0, 2, 0, 2, 0, 0, 0, 0, 3, 0, 3, 0, 1, 0, 0, 0, 0, 0, 2, 0, 0, 0, 0, 0, 2, 2, 0, 0, 0, 0, 1, 0, 0, 0, 0, 0, 0, 1, 0, 0, 0, 1, 0, 0, 0, 0, 2, 0, 0, 0, 0, 0, 0, 0, 0, 0, 0, 0, 0, 0, 0, 0, 0, 0, 0, 0, 0, 0, 0, 0, 0, 0, 0, 1, 1, 0, 0, 2, 0, 0, 0, 2, 0, 0, 0, 0, 0, 1, 0, 0, 0, 2, 0, 1, 0, 1, 0, 0, 2, 0, 0, 0, 0, 0, 0, 1, 0, 1, 0, 0, 1, 0, 2, 0, 1, 0, 0, 0, 0, 0, 0, 0, 0, 2, 0, 0, 2, 0, 0, 0, 0, 0, 0, 0, 2, 2, 0, 0, 0, 0, 0, 0, 0, 0, 1, 0, 3, 0, 0, 0, 0, 0, 0, 0, 0, 0, 0, 0, 0, 0, 0, 1, 0, 0, 0, 0, 0, 2, 0, 1, 0, 0, 1, 2, 0, 0, 0, 2, 0, 1, 0, 0, 0, 0, 0, 1, 0, 2, 0, 0, 0, 0, 0, 0, 2, 0, 0, 0, 0, 2, 0, 0, 1, 0, 0, 0, 0, 0, 0, 2, 0, 2, 0, 0, 0, 0, 0, 0, 2, 0, 0, 0, 0, 0, 0, 0, 0]\n"
     ]
    }
   ],
   "source": [
    "plurality_class = [CLASSES[plurality] for plurality in df.plurality]\n",
    "\"\"\"\n",
    "Here, CLASSES is a Python dictionary mapping string labels to integer codes. The expression CLASSES[plurality]\n",
    "uses the dictionary lookup operator [...] to retrieve the value associated with the key held in the variable plurality.\n",
    "– If plurality == 'Twins(2)', then CLASSES[plurality] returns 2.\n",
    "– If the key isn’t in the dictionary, you’d get a KeyError.\n",
    "\"\"\"\n",
    "print(plurality_class)"
   ]
  },
  {
   "cell_type": "code",
   "execution_count": null,
   "id": "c4e92df9",
   "metadata": {},
   "outputs": [],
   "source": []
  },
  {
   "cell_type": "code",
   "execution_count": 132,
   "id": "f4fdb09a",
   "metadata": {},
   "outputs": [],
   "source": [
    "EMBED_DIM = 2 # This defines that each category will be mapped to a 2-dimensional vector. We're going from 6 classes to 2 dimensions.\n",
    "\n",
    "embedding_layer = layers.Embedding(input_dim=N_CLASSES, # input_dim=N_CLASSES (which is 6): Tells the layer to expect integer inputs from 0 to 5\n",
    "                                   output_dim=EMBED_DIM) # output_dim=EMBED_DIM (which is 2): Each integer will be mapped to a 2D vector\n",
    "\n",
    "# Think of this as creating a lookup table\n",
    "\"\"\"\n",
    "Index 0 (Single)      → [random_value1, random_value2]\n",
    "Index 1 (Multiple)    → [random_value3, random_value4]\n",
    "Index 2 (Twins)       → [random_value5, random_value6]\n",
    "Index 3 (Triplets)    → [random_value7, random_value8]\n",
    "Index 4 (Quadruplets) → [random_value9, random_value10]\n",
    "Index 5 (Quintuplets) → [random_value11, random_value12]\n",
    "\"\"\"\n",
    "embeds = embedding_layer(tf.constant(plurality_class)) # Applying the Embedding\n",
    "\"\"\" \n",
    "- plurality_class is a list like [0, 2, 1, 0, 3, ...] (the integer codes for each sample)\n",
    "- tf.constant() converts it to a TensorFlow tensor\n",
    "- The embedding layer looks up each integer and returns its corresponding 2D vector\n",
    "\"\"\""
   ]
  },
  {
   "cell_type": "code",
   "execution_count": 128,
   "id": "9173879d",
   "metadata": {},
   "outputs": [
    {
     "data": {
      "text/plain": [
       "TensorShape([999, 2])"
      ]
     },
     "execution_count": 128,
     "metadata": {},
     "output_type": "execute_result"
    }
   ],
   "source": [
    "embeds.shape"
   ]
  },
  {
   "cell_type": "code",
   "execution_count": 129,
   "id": "07ca7a1d",
   "metadata": {},
   "outputs": [
    {
     "data": {
      "text/plain": [
       "<tf.Tensor: shape=(5, 2), dtype=float32, numpy=\n",
       "array([[ 0.02642489,  0.04549296],\n",
       "       [ 0.02642489,  0.04549296],\n",
       "       [ 0.02642489,  0.04549296],\n",
       "       [ 0.01094618, -0.01568002],\n",
       "       [ 0.02642489,  0.04549296]], dtype=float32)>"
      ]
     },
     "execution_count": 129,
     "metadata": {},
     "output_type": "execute_result"
    }
   ],
   "source": [
    "\"\"\" This is the simplest form of embeddings where\n",
    "1. Lookup Table: The embedding layer creates a weight matrix of shape (6, 2) - essentially a lookup table\n",
    "2. Random Initialization: The embedding vectors start with random values\n",
    "3. Learned During Training: These vectors are updated through backpropagation during model training\n",
    "\"\"\"\n",
    "embeds[:5]\n",
    "# Output the first 5 embeddings"
   ]
  },
  {
   "cell_type": "code",
   "execution_count": 85,
   "id": "64efd0f4",
   "metadata": {},
   "outputs": [
    {
     "name": "stdout",
     "output_type": "stream",
     "text": [
      "[<Variable path=embedding_5/embeddings, shape=(6, 2), dtype=float32, value=[[-0.00551952 -0.03363969]\n",
      " [ 0.04656968 -0.04476753]\n",
      " [-0.00456963  0.04211232]\n",
      " [ 0.0064072  -0.02775153]\n",
      " [ 0.0025609  -0.01577356]\n",
      " [ 0.0153077   0.01007269]]>]\n"
     ]
    }
   ],
   "source": [
    "print(embedding_layer.weights)"
   ]
  },
  {
   "cell_type": "markdown",
   "id": "cb9aefbe",
   "metadata": {},
   "source": [
    "## Text embedding"
   ]
  },
  {
   "cell_type": "code",
   "execution_count": 140,
   "id": "9db63ee4",
   "metadata": {},
   "outputs": [],
   "source": [
    "# Task: predict which website an article comes from based on its title\n",
    "LOGDIR = \"./text_models\"\n",
    "DATA_DIR = \"./Data\""
   ]
  },
  {
   "cell_type": "code",
   "execution_count": 138,
   "id": "94623615",
   "metadata": {},
   "outputs": [
    {
     "data": {
      "text/html": [
       "<div>\n",
       "<style scoped>\n",
       "    .dataframe tbody tr th:only-of-type {\n",
       "        vertical-align: middle;\n",
       "    }\n",
       "\n",
       "    .dataframe tbody tr th {\n",
       "        vertical-align: top;\n",
       "    }\n",
       "\n",
       "    .dataframe thead th {\n",
       "        text-align: right;\n",
       "    }\n",
       "</style>\n",
       "<table border=\"1\" class=\"dataframe\">\n",
       "  <thead>\n",
       "    <tr style=\"text-align: right;\">\n",
       "      <th></th>\n",
       "      <th>title</th>\n",
       "      <th>source</th>\n",
       "    </tr>\n",
       "  </thead>\n",
       "  <tbody>\n",
       "    <tr>\n",
       "      <th>0</th>\n",
       "      <td>holy cash cow  batman - content is back</td>\n",
       "      <td>nytimes</td>\n",
       "    </tr>\n",
       "    <tr>\n",
       "      <th>1</th>\n",
       "      <td>show hn  a simple and configurable deployment ...</td>\n",
       "      <td>github</td>\n",
       "    </tr>\n",
       "    <tr>\n",
       "      <th>2</th>\n",
       "      <td>show hn  neural turing machine in pure numpy. ...</td>\n",
       "      <td>github</td>\n",
       "    </tr>\n",
       "    <tr>\n",
       "      <th>3</th>\n",
       "      <td>close look at a flu outbreak upends some commo...</td>\n",
       "      <td>nytimes</td>\n",
       "    </tr>\n",
       "    <tr>\n",
       "      <th>4</th>\n",
       "      <td>lambdalite  a functional  relational lisp data...</td>\n",
       "      <td>github</td>\n",
       "    </tr>\n",
       "    <tr>\n",
       "      <th>...</th>\n",
       "      <td>...</td>\n",
       "      <td>...</td>\n",
       "    </tr>\n",
       "    <tr>\n",
       "      <th>95</th>\n",
       "      <td>cooper union s free tuition tradition may be ...</td>\n",
       "      <td>nytimes</td>\n",
       "    </tr>\n",
       "    <tr>\n",
       "      <th>96</th>\n",
       "      <td>htmly  databaseless blogging platform  flat-fi...</td>\n",
       "      <td>github</td>\n",
       "    </tr>\n",
       "    <tr>\n",
       "      <th>97</th>\n",
       "      <td>a lightweight javaweb framework  concise and p...</td>\n",
       "      <td>github</td>\n",
       "    </tr>\n",
       "    <tr>\n",
       "      <th>98</th>\n",
       "      <td>transcription of dybvig s simple scheme interp...</td>\n",
       "      <td>github</td>\n",
       "    </tr>\n",
       "    <tr>\n",
       "      <th>99</th>\n",
       "      <td>show hn  mongoop   tame your mongodb slow oper...</td>\n",
       "      <td>github</td>\n",
       "    </tr>\n",
       "  </tbody>\n",
       "</table>\n",
       "<p>100 rows × 2 columns</p>\n",
       "</div>"
      ],
      "text/plain": [
       "                                                title   source\n",
       "0             holy cash cow  batman - content is back  nytimes\n",
       "1   show hn  a simple and configurable deployment ...   github\n",
       "2   show hn  neural turing machine in pure numpy. ...   github\n",
       "3   close look at a flu outbreak upends some commo...  nytimes\n",
       "4   lambdalite  a functional  relational lisp data...   github\n",
       "..                                                ...      ...\n",
       "95   cooper union s free tuition tradition may be ...  nytimes\n",
       "96  htmly  databaseless blogging platform  flat-fi...   github\n",
       "97  a lightweight javaweb framework  concise and p...   github\n",
       "98  transcription of dybvig s simple scheme interp...   github\n",
       "99  show hn  mongoop   tame your mongodb slow oper...   github\n",
       "\n",
       "[100 rows x 2 columns]"
      ]
     },
     "execution_count": 138,
     "metadata": {},
     "output_type": "execute_result"
    }
   ],
   "source": [
    "DATASET_NAME = \"titles_full.csv\"\n",
    "TITLE_SAMPLE_PATH = os.path.join(DATA_DIR, DATASET_NAME)\n",
    "COLUMNS = ['title', 'source']   # load the 2 columns of the dataset into a DataFrame with key names 'title' and 'source'\n",
    "\n",
    "titles_df = pd.read_csv(TITLE_SAMPLE_PATH, header=None, names=COLUMNS)\n",
    "titles_df.head(100)"
   ]
  },
  {
   "cell_type": "code",
   "execution_count": 159,
   "id": "826624c7",
   "metadata": {},
   "outputs": [],
   "source": [
    "tokenizer = Tokenizer() # Tokenizer creates a vocabulary mapping words → integers\n",
    "tokenizer.fit_on_texts(titles_df.title) # fit_on_texts() builds the vocabulary from all titles\n",
    "integerized_titles = tokenizer.texts_to_sequences(titles_df.title)  # texts_to_sequences() converts each title to a list of integers"
   ]
  },
  {
   "cell_type": "code",
   "execution_count": 160,
   "id": "b72c47ba",
   "metadata": {},
   "outputs": [
    {
     "data": {
      "text/plain": [
       "[[6117, 560, 8577, 13948, 302, 13, 172],\n",
       " [11, 12, 2, 49, 7, 3838, 1322, 91, 4, 28, 482],\n",
       " [11, 12, 1501, 2812, 322, 5, 589, 7337, 5458, 78, 108, 1989, 17, 1139]]"
      ]
     },
     "execution_count": 160,
     "metadata": {},
     "output_type": "execute_result"
    }
   ],
   "source": [
    "integerized_titles[:3]"
   ]
  },
  {
   "cell_type": "code",
   "execution_count": 157,
   "id": "4ac3e2a9",
   "metadata": {},
   "outputs": [
    {
     "name": "stdout",
     "output_type": "stream",
     "text": [
      "3 → nytimes\n",
      "['nytimes']\n"
     ]
    }
   ],
   "source": [
    "token_id = integerized_titles[0][0]\n",
    "word = tokenizer.index_word[token_id]         # maps ID → word\n",
    "print(f\"{token_id} → {word}\")\n",
    "\n",
    "# to decode a full sequence back into words:\n",
    "decoded = [tokenizer.index_word[id] for id in integerized_titles[0]]  # this create a list of words from the first title's integerized sequence\n",
    "print(decoded)"
   ]
  },
  {
   "cell_type": "code",
   "execution_count": 90,
   "id": "1b41c864",
   "metadata": {},
   "outputs": [
    {
     "data": {
      "text/plain": [
       "47271"
      ]
     },
     "execution_count": 90,
     "metadata": {},
     "output_type": "execute_result"
    }
   ],
   "source": [
    "VOCAB_SIZE = len(tokenizer.index_word) # Total unique words\n",
    "VOCAB_SIZE"
   ]
  },
  {
   "cell_type": "code",
   "execution_count": 139,
   "id": "419f8871",
   "metadata": {},
   "outputs": [
    {
     "data": {
      "text/plain": [
       "96203"
      ]
     },
     "execution_count": 139,
     "metadata": {},
     "output_type": "execute_result"
    }
   ],
   "source": [
    "DATASET_SIZE = tokenizer.document_count # Total number of titles\n",
    "DATASET_SIZE"
   ]
  },
  {
   "cell_type": "code",
   "execution_count": 161,
   "id": "7742bd12",
   "metadata": {},
   "outputs": [
    {
     "data": {
      "text/plain": [
       "26"
      ]
     },
     "execution_count": 161,
     "metadata": {},
     "output_type": "execute_result"
    }
   ],
   "source": [
    "MAX_LEN = max(len(sequence) for sequence in integerized_titles) # Longest title\n",
    "MAX_LEN"
   ]
  },
  {
   "cell_type": "code",
   "execution_count": 93,
   "id": "845eb398",
   "metadata": {},
   "outputs": [],
   "source": [
    "def create_sequences(texts, max_len=MAX_LEN):\n",
    "    sequences = tokenizer.texts_to_sequences(texts)\n",
    "    padded_sequences = pad_sequences(sequences,\n",
    "                                     max_len,\n",
    "                                     padding='post')\n",
    "    return padded_sequences\n",
    "\"\"\" IMPORTANT NOTE:\n",
    "Neural networks need fixed-size inputs\n",
    "pad_sequences() adds zeros to make all sequences the same length\n",
    "padding='post' adds zeros at the end\n",
    "\"\"\""
   ]
  },
  {
   "cell_type": "code",
   "execution_count": 94,
   "id": "dd451f71",
   "metadata": {},
   "outputs": [
    {
     "data": {
      "text/plain": [
       "array([[ 6117,   560,  8577, 13948,   302,    13,   172,     0,     0,\n",
       "            0,     0,     0,     0,     0,     0,     0,     0,     0,\n",
       "            0,     0,     0,     0,     0,     0,     0,     0],\n",
       "       [ 1030,   316,    23,     2,  3718,  7338, 13949,   214,   715,\n",
       "         4581,     0,     0,     0,     0,     0,     0,     0,     0,\n",
       "            0,     0,     0,     0,     0,     0,     0,     0]],\n",
       "      dtype=int32)"
      ]
     },
     "execution_count": 94,
     "metadata": {},
     "output_type": "execute_result"
    }
   ],
   "source": [
    "sample_titles = create_sequences([\"holy cash cow  batman - content is back\",\n",
    "                                 \"close look at a flu outbreak upends some common wisdom\"])\n",
    "sample_titles"
   ]
  },
  {
   "cell_type": "code",
   "execution_count": 95,
   "id": "cedbef1c",
   "metadata": {},
   "outputs": [],
   "source": [
    "CLASSES = {\n",
    "    'github': 0,\n",
    "    'nytimes': 1,\n",
    "    'techcrunch': 2\n",
    "}\n",
    "N_CLASSES = len(CLASSES)"
   ]
  },
  {
   "cell_type": "code",
   "execution_count": 96,
   "id": "ecf98be3",
   "metadata": {},
   "outputs": [],
   "source": [
    "def encode_labels(sources):\n",
    "    classes = [CLASSES[source] for source in sources]\n",
    "    one_hots = utils.to_categorical(classes)\n",
    "    return one_hots\n",
    "\n",
    "\"\"\" \n",
    "Converts source labels to one-hot vectors:\n",
    "'github' → [1, 0, 0]\n",
    "'nytimes' → [0, 1, 0]\n",
    "'techcrunch' → [0, 0, 1]\n",
    "\"\"\""
   ]
  },
  {
   "cell_type": "code",
   "execution_count": 172,
   "id": "011305e0",
   "metadata": {},
   "outputs": [
    {
     "name": "stdout",
     "output_type": "stream",
     "text": [
      "Number of training samples: 76962\n"
     ]
    }
   ],
   "source": [
    "# Determine how many samples to use for training (80% of the total dataset)\n",
    "N_TRAIN = int(DATASET_SIZE * 0.8)\n",
    "print(\"Number of training samples: \" + str(N_TRAIN))\n",
    "\n",
    "# Load the CSV of titles and sources into a DataFrame\n",
    "# – header=None    : the file has no header row\n",
    "# – names=COLUMNS : assign our ['title', 'source'] column names\n",
    "titles_df = pd.read_csv(TITLE_SAMPLE_PATH, header=None, names=COLUMNS)\n",
    "\n",
    "# Slice out the first N_TRAIN rows for the training split\n",
    "# – titles_train  : the text inputs (titles) for training\n",
    "# – sources_train : the labels (source names) for training\n",
    "titles_train, sources_train = (\n",
    "    titles_df.title[:N_TRAIN],\n",
    "    titles_df.source[:N_TRAIN]\n",
    ")\n",
    "\n",
    "# Slice the remaining rows for validation\n",
    "# – titles_valid  : the text inputs for validation\n",
    "# – sources_valid : the labels for validation\n",
    "titles_valid, sources_valid = (\n",
    "    titles_df.title[N_TRAIN:],\n",
    "    titles_df.source[N_TRAIN:]\n",
    ")"
   ]
  },
  {
   "cell_type": "code",
   "execution_count": 98,
   "id": "a563f474",
   "metadata": {},
   "outputs": [],
   "source": [
    "X_train, Y_train = create_sequences(titles_train), encode_labels(sources_train)\n",
    "X_valid, Y_valid = create_sequences(titles_valid), encode_labels(sources_valid)"
   ]
  },
  {
   "cell_type": "code",
   "execution_count": 162,
   "id": "63fa39a3",
   "metadata": {},
   "outputs": [],
   "source": [
    "\t\n",
    "def build_dnn_model(embed_dim):\n",
    "\n",
    "    model = models.Sequential([\n",
    "        # Embedding Layer:\n",
    "        #   Input:  (batch_size, MAX_LEN)         — sequences of word indices\n",
    "        #   Output: (batch_size, MAX_LEN, embed_dim) — sequences of dense vectors\n",
    "        #   Learns a lookup table mapping each word index → embed_dim-length vector\n",
    "        layers.Embedding(VOCAB_SIZE + 1,\n",
    "                         embed_dim,\n",
    "                         input_shape=[MAX_LEN]),\n",
    "\n",
    "        # Lambda Layer (Average Pooling):\n",
    "        #   Input:  (batch_size, MAX_LEN, embed_dim)\n",
    "        #   Output: (batch_size, embed_dim)\n",
    "        #   Averages over the time dimension to get one fixed-size vector per sample\n",
    "        layers.Lambda(lambda x: tf.reduce_mean(x, axis=1)),\n",
    "\n",
    "        # Dense Layer:\n",
    "        #   Input:  (batch_size, embed_dim)\n",
    "        #   Output: (batch_size, N_CLASSES)\n",
    "        #   Softmax activation to produce a probability distribution over classes\n",
    "        layers.Dense(N_CLASSES, activation='softmax')\n",
    "    ])\n",
    "\n",
    "    model.compile(\n",
    "        optimizer='adam',                 # Adam optimizer\n",
    "        loss='categorical_crossentropy',  # loss for multi-class classification\n",
    "        metrics=['accuracy']              # track accuracy during training\n",
    "    )\n",
    "    return model"
   ]
  },
  {
   "cell_type": "code",
   "execution_count": 164,
   "id": "ddd38522",
   "metadata": {},
   "outputs": [
    {
     "data": {
      "text/plain": [
       "('holy cash cow  batman - content is back',\n",
       " array([ 6117,   560,  8577, 13948,   302,    13,   172,     0,     0,\n",
       "            0,     0,     0,     0,     0,     0,     0,     0,     0,\n",
       "            0,     0,     0,     0,     0,     0,     0,     0],\n",
       "       dtype=int32),\n",
       " array([0., 1., 0.]),\n",
       " 'nytimes')"
      ]
     },
     "execution_count": 164,
     "metadata": {},
     "output_type": "execute_result"
    }
   ],
   "source": [
    "titles_train[0], X_train[0], Y_train[0], sources_train[0]"
   ]
  },
  {
   "cell_type": "code",
   "execution_count": 101,
   "id": "ea9c2552",
   "metadata": {},
   "outputs": [
    {
     "name": "stdout",
     "output_type": "stream",
     "text": [
      "Epoch 1/100\n"
     ]
    },
    {
     "name": "stderr",
     "output_type": "stream",
     "text": [
      "/home/trungthieu/anaconda3/lib/python3.12/site-packages/keras/src/layers/core/embedding.py:100: UserWarning: Do not pass an `input_shape`/`input_dim` argument to a layer. When using Sequential models, prefer using an `Input(shape)` object as the first layer in the model instead.\n",
      "  super().__init__(**kwargs)\n"
     ]
    },
    {
     "name": "stdout",
     "output_type": "stream",
     "text": [
      "\u001b[1m257/257\u001b[0m \u001b[32m━━━━━━━━━━━━━━━━━━━━\u001b[0m\u001b[37m\u001b[0m \u001b[1m1s\u001b[0m 3ms/step - accuracy: 0.4027 - loss: 1.0625 - val_accuracy: 0.6632 - val_loss: 0.9240\n",
      "Epoch 2/100\n",
      "\u001b[1m257/257\u001b[0m \u001b[32m━━━━━━━━━━━━━━━━━━━━\u001b[0m\u001b[37m\u001b[0m \u001b[1m1s\u001b[0m 3ms/step - accuracy: 0.6856 - loss: 0.8744 - val_accuracy: 0.7598 - val_loss: 0.7510\n",
      "Epoch 3/100\n",
      "\u001b[1m257/257\u001b[0m \u001b[32m━━━━━━━━━━━━━━━━━━━━\u001b[0m\u001b[37m\u001b[0m \u001b[1m1s\u001b[0m 3ms/step - accuracy: 0.7694 - loss: 0.7174 - val_accuracy: 0.7899 - val_loss: 0.6451\n",
      "Epoch 4/100\n",
      "\u001b[1m257/257\u001b[0m \u001b[32m━━━━━━━━━━━━━━━━━━━━\u001b[0m\u001b[37m\u001b[0m \u001b[1m1s\u001b[0m 3ms/step - accuracy: 0.7998 - loss: 0.6159 - val_accuracy: 0.8049 - val_loss: 0.5709\n",
      "Epoch 5/100\n",
      "\u001b[1m257/257\u001b[0m \u001b[32m━━━━━━━━━━━━━━━━━━━━\u001b[0m\u001b[37m\u001b[0m \u001b[1m1s\u001b[0m 3ms/step - accuracy: 0.8180 - loss: 0.5420 - val_accuracy: 0.8174 - val_loss: 0.5176\n",
      "Epoch 6/100\n",
      "\u001b[1m257/257\u001b[0m \u001b[32m━━━━━━━━━━━━━━━━━━━━\u001b[0m\u001b[37m\u001b[0m \u001b[1m1s\u001b[0m 3ms/step - accuracy: 0.8322 - loss: 0.4874 - val_accuracy: 0.8248 - val_loss: 0.4792\n",
      "Epoch 7/100\n",
      "\u001b[1m257/257\u001b[0m \u001b[32m━━━━━━━━━━━━━━━━━━━━\u001b[0m\u001b[37m\u001b[0m \u001b[1m1s\u001b[0m 3ms/step - accuracy: 0.8437 - loss: 0.4464 - val_accuracy: 0.8316 - val_loss: 0.4511\n",
      "Epoch 8/100\n",
      "\u001b[1m257/257\u001b[0m \u001b[32m━━━━━━━━━━━━━━━━━━━━\u001b[0m\u001b[37m\u001b[0m \u001b[1m1s\u001b[0m 3ms/step - accuracy: 0.8523 - loss: 0.4146 - val_accuracy: 0.8370 - val_loss: 0.4300\n",
      "Epoch 9/100\n",
      "\u001b[1m257/257\u001b[0m \u001b[32m━━━━━━━━━━━━━━━━━━━━\u001b[0m\u001b[37m\u001b[0m \u001b[1m1s\u001b[0m 3ms/step - accuracy: 0.8594 - loss: 0.3891 - val_accuracy: 0.8397 - val_loss: 0.4136\n",
      "Epoch 10/100\n",
      "\u001b[1m257/257\u001b[0m \u001b[32m━━━━━━━━━━━━━━━━━━━━\u001b[0m\u001b[37m\u001b[0m \u001b[1m1s\u001b[0m 3ms/step - accuracy: 0.8657 - loss: 0.3679 - val_accuracy: 0.8435 - val_loss: 0.4007\n",
      "Epoch 11/100\n",
      "\u001b[1m257/257\u001b[0m \u001b[32m━━━━━━━━━━━━━━━━━━━━\u001b[0m\u001b[37m\u001b[0m \u001b[1m1s\u001b[0m 3ms/step - accuracy: 0.8719 - loss: 0.3499 - val_accuracy: 0.8468 - val_loss: 0.3904\n",
      "Epoch 12/100\n",
      "\u001b[1m257/257\u001b[0m \u001b[32m━━━━━━━━━━━━━━━━━━━━\u001b[0m\u001b[37m\u001b[0m \u001b[1m1s\u001b[0m 3ms/step - accuracy: 0.8772 - loss: 0.3341 - val_accuracy: 0.8487 - val_loss: 0.3821\n",
      "Epoch 13/100\n",
      "\u001b[1m257/257\u001b[0m \u001b[32m━━━━━━━━━━━━━━━━━━━━\u001b[0m\u001b[37m\u001b[0m \u001b[1m0s\u001b[0m 121us/step - accuracy: 0.8824 - loss: 0.3202 - val_accuracy: 0.8507 - val_loss: 0.3753\n",
      "Epoch 14/100\n",
      "\u001b[1m257/257\u001b[0m \u001b[32m━━━━━━━━━━━━━━━━━━━━\u001b[0m\u001b[37m\u001b[0m \u001b[1m1s\u001b[0m 3ms/step - accuracy: 0.8869 - loss: 0.3076 - val_accuracy: 0.8526 - val_loss: 0.3697\n",
      "Epoch 15/100\n",
      "\u001b[1m257/257\u001b[0m \u001b[32m━━━━━━━━━━━━━━━━━━━━\u001b[0m\u001b[37m\u001b[0m \u001b[1m1s\u001b[0m 3ms/step - accuracy: 0.8914 - loss: 0.2961 - val_accuracy: 0.8538 - val_loss: 0.3652\n",
      "Epoch 16/100\n",
      "\u001b[1m257/257\u001b[0m \u001b[32m━━━━━━━━━━━━━━━━━━━━\u001b[0m\u001b[37m\u001b[0m \u001b[1m1s\u001b[0m 3ms/step - accuracy: 0.8950 - loss: 0.2856 - val_accuracy: 0.8547 - val_loss: 0.3616\n",
      "Epoch 17/100\n",
      "\u001b[1m257/257\u001b[0m \u001b[32m━━━━━━━━━━━━━━━━━━━━\u001b[0m\u001b[37m\u001b[0m \u001b[1m1s\u001b[0m 3ms/step - accuracy: 0.8993 - loss: 0.2759 - val_accuracy: 0.8549 - val_loss: 0.3587\n",
      "Epoch 18/100\n",
      "\u001b[1m257/257\u001b[0m \u001b[32m━━━━━━━━━━━━━━━━━━━━\u001b[0m\u001b[37m\u001b[0m \u001b[1m1s\u001b[0m 3ms/step - accuracy: 0.9022 - loss: 0.2669 - val_accuracy: 0.8561 - val_loss: 0.3565\n",
      "Epoch 19/100\n",
      "\u001b[1m257/257\u001b[0m \u001b[32m━━━━━━━━━━━━━━━━━━━━\u001b[0m\u001b[37m\u001b[0m \u001b[1m1s\u001b[0m 3ms/step - accuracy: 0.9053 - loss: 0.2584 - val_accuracy: 0.8569 - val_loss: 0.3549\n",
      "Epoch 20/100\n",
      "\u001b[1m257/257\u001b[0m \u001b[32m━━━━━━━━━━━━━━━━━━━━\u001b[0m\u001b[37m\u001b[0m \u001b[1m1s\u001b[0m 3ms/step - accuracy: 0.9086 - loss: 0.2504 - val_accuracy: 0.8580 - val_loss: 0.3538\n",
      "Epoch 21/100\n",
      "\u001b[1m257/257\u001b[0m \u001b[32m━━━━━━━━━━━━━━━━━━━━\u001b[0m\u001b[37m\u001b[0m \u001b[1m1s\u001b[0m 3ms/step - accuracy: 0.9116 - loss: 0.2429 - val_accuracy: 0.8584 - val_loss: 0.3531\n",
      "Epoch 22/100\n",
      "\u001b[1m257/257\u001b[0m \u001b[32m━━━━━━━━━━━━━━━━━━━━\u001b[0m\u001b[37m\u001b[0m \u001b[1m1s\u001b[0m 3ms/step - accuracy: 0.9147 - loss: 0.2358 - val_accuracy: 0.8581 - val_loss: 0.3529\n",
      "Epoch 23/100\n",
      "\u001b[1m257/257\u001b[0m \u001b[32m━━━━━━━━━━━━━━━━━━━━\u001b[0m\u001b[37m\u001b[0m \u001b[1m1s\u001b[0m 3ms/step - accuracy: 0.9170 - loss: 0.2290 - val_accuracy: 0.8585 - val_loss: 0.3531\n"
     ]
    },
    {
     "data": {
      "text/html": [
       "<pre style=\"white-space:pre;overflow-x:auto;line-height:normal;font-family:Menlo,'DejaVu Sans Mono',consolas,'Courier New',monospace\"><span style=\"font-weight: bold\">Model: \"sequential_2\"</span>\n",
       "</pre>\n"
      ],
      "text/plain": [
       "\u001b[1mModel: \"sequential_2\"\u001b[0m\n"
      ]
     },
     "metadata": {},
     "output_type": "display_data"
    },
    {
     "data": {
      "text/html": [
       "<pre style=\"white-space:pre;overflow-x:auto;line-height:normal;font-family:Menlo,'DejaVu Sans Mono',consolas,'Courier New',monospace\">┏━━━━━━━━━━━━━━━━━━━━━━━━━━━━━━━━━┳━━━━━━━━━━━━━━━━━━━━━━━━┳━━━━━━━━━━━━━━━┓\n",
       "┃<span style=\"font-weight: bold\"> Layer (type)                    </span>┃<span style=\"font-weight: bold\"> Output Shape           </span>┃<span style=\"font-weight: bold\">       Param # </span>┃\n",
       "┡━━━━━━━━━━━━━━━━━━━━━━━━━━━━━━━━━╇━━━━━━━━━━━━━━━━━━━━━━━━╇━━━━━━━━━━━━━━━┩\n",
       "│ embedding_6 (<span style=\"color: #0087ff; text-decoration-color: #0087ff\">Embedding</span>)         │ (<span style=\"color: #00d7ff; text-decoration-color: #00d7ff\">None</span>, <span style=\"color: #00af00; text-decoration-color: #00af00\">26</span>, <span style=\"color: #00af00; text-decoration-color: #00af00\">10</span>)         │       <span style=\"color: #00af00; text-decoration-color: #00af00\">472,720</span> │\n",
       "├─────────────────────────────────┼────────────────────────┼───────────────┤\n",
       "│ lambda_2 (<span style=\"color: #0087ff; text-decoration-color: #0087ff\">Lambda</span>)               │ (<span style=\"color: #00d7ff; text-decoration-color: #00d7ff\">None</span>, <span style=\"color: #00af00; text-decoration-color: #00af00\">10</span>)             │             <span style=\"color: #00af00; text-decoration-color: #00af00\">0</span> │\n",
       "├─────────────────────────────────┼────────────────────────┼───────────────┤\n",
       "│ dense_2 (<span style=\"color: #0087ff; text-decoration-color: #0087ff\">Dense</span>)                 │ (<span style=\"color: #00d7ff; text-decoration-color: #00d7ff\">None</span>, <span style=\"color: #00af00; text-decoration-color: #00af00\">3</span>)              │            <span style=\"color: #00af00; text-decoration-color: #00af00\">33</span> │\n",
       "└─────────────────────────────────┴────────────────────────┴───────────────┘\n",
       "</pre>\n"
      ],
      "text/plain": [
       "┏━━━━━━━━━━━━━━━━━━━━━━━━━━━━━━━━━┳━━━━━━━━━━━━━━━━━━━━━━━━┳━━━━━━━━━━━━━━━┓\n",
       "┃\u001b[1m \u001b[0m\u001b[1mLayer (type)                   \u001b[0m\u001b[1m \u001b[0m┃\u001b[1m \u001b[0m\u001b[1mOutput Shape          \u001b[0m\u001b[1m \u001b[0m┃\u001b[1m \u001b[0m\u001b[1m      Param #\u001b[0m\u001b[1m \u001b[0m┃\n",
       "┡━━━━━━━━━━━━━━━━━━━━━━━━━━━━━━━━━╇━━━━━━━━━━━━━━━━━━━━━━━━╇━━━━━━━━━━━━━━━┩\n",
       "│ embedding_6 (\u001b[38;5;33mEmbedding\u001b[0m)         │ (\u001b[38;5;45mNone\u001b[0m, \u001b[38;5;34m26\u001b[0m, \u001b[38;5;34m10\u001b[0m)         │       \u001b[38;5;34m472,720\u001b[0m │\n",
       "├─────────────────────────────────┼────────────────────────┼───────────────┤\n",
       "│ lambda_2 (\u001b[38;5;33mLambda\u001b[0m)               │ (\u001b[38;5;45mNone\u001b[0m, \u001b[38;5;34m10\u001b[0m)             │             \u001b[38;5;34m0\u001b[0m │\n",
       "├─────────────────────────────────┼────────────────────────┼───────────────┤\n",
       "│ dense_2 (\u001b[38;5;33mDense\u001b[0m)                 │ (\u001b[38;5;45mNone\u001b[0m, \u001b[38;5;34m3\u001b[0m)              │            \u001b[38;5;34m33\u001b[0m │\n",
       "└─────────────────────────────────┴────────────────────────┴───────────────┘\n"
      ]
     },
     "metadata": {},
     "output_type": "display_data"
    },
    {
     "data": {
      "text/html": [
       "<pre style=\"white-space:pre;overflow-x:auto;line-height:normal;font-family:Menlo,'DejaVu Sans Mono',consolas,'Courier New',monospace\"><span style=\"font-weight: bold\"> Total params: </span><span style=\"color: #00af00; text-decoration-color: #00af00\">1,418,261</span> (5.41 MB)\n",
       "</pre>\n"
      ],
      "text/plain": [
       "\u001b[1m Total params: \u001b[0m\u001b[38;5;34m1,418,261\u001b[0m (5.41 MB)\n"
      ]
     },
     "metadata": {},
     "output_type": "display_data"
    },
    {
     "data": {
      "text/html": [
       "<pre style=\"white-space:pre;overflow-x:auto;line-height:normal;font-family:Menlo,'DejaVu Sans Mono',consolas,'Courier New',monospace\"><span style=\"font-weight: bold\"> Trainable params: </span><span style=\"color: #00af00; text-decoration-color: #00af00\">472,753</span> (1.80 MB)\n",
       "</pre>\n"
      ],
      "text/plain": [
       "\u001b[1m Trainable params: \u001b[0m\u001b[38;5;34m472,753\u001b[0m (1.80 MB)\n"
      ]
     },
     "metadata": {},
     "output_type": "display_data"
    },
    {
     "data": {
      "text/html": [
       "<pre style=\"white-space:pre;overflow-x:auto;line-height:normal;font-family:Menlo,'DejaVu Sans Mono',consolas,'Courier New',monospace\"><span style=\"font-weight: bold\"> Non-trainable params: </span><span style=\"color: #00af00; text-decoration-color: #00af00\">0</span> (0.00 B)\n",
       "</pre>\n"
      ],
      "text/plain": [
       "\u001b[1m Non-trainable params: \u001b[0m\u001b[38;5;34m0\u001b[0m (0.00 B)\n"
      ]
     },
     "metadata": {},
     "output_type": "display_data"
    },
    {
     "data": {
      "text/html": [
       "<pre style=\"white-space:pre;overflow-x:auto;line-height:normal;font-family:Menlo,'DejaVu Sans Mono',consolas,'Courier New',monospace\"><span style=\"font-weight: bold\"> Optimizer params: </span><span style=\"color: #00af00; text-decoration-color: #00af00\">945,508</span> (3.61 MB)\n",
       "</pre>\n"
      ],
      "text/plain": [
       "\u001b[1m Optimizer params: \u001b[0m\u001b[38;5;34m945,508\u001b[0m (3.61 MB)\n"
      ]
     },
     "metadata": {},
     "output_type": "display_data"
    },
    {
     "name": "stdout",
     "output_type": "stream",
     "text": [
      "CPU times: user 25.2 s, sys: 22.5 s, total: 47.8 s\n",
      "Wall time: 15.9 s\n"
     ]
    },
    {
     "data": {
      "image/png": "[encoded data removed]",
      "text/plain": [
       "<Figure size 640x480 with 1 Axes>"
      ]
     },
     "metadata": {},
     "output_type": "display_data"
    },
    {
     "data": {
      "image/png": "[encoded data removed]",
      "text/plain": [
       "<Figure size 640x480 with 1 Axes>"
      ]
     },
     "metadata": {},
     "output_type": "display_data"
    }
   ],
   "source": [
    "%%time\n",
    "\n",
    "tf.random.set_seed(33)\n",
    "\n",
    "MODEL_DIR = os.path.join(LOGDIR, 'dnn')\n",
    "#shutil.rmtree(MODEL_DIR, ignore_errors=True)\n",
    "\n",
    "BATCH_SIZE = 300\n",
    "EPOCHS = 100\n",
    "EMBED_DIM = 10\n",
    "PATIENCE = 0\n",
    "\n",
    "dnn_model = build_dnn_model(embed_dim=EMBED_DIM)\n",
    "\n",
    "dnn_history = dnn_model.fit(\n",
    "    X_train, Y_train,\n",
    "    epochs=EPOCHS,\n",
    "    batch_size=BATCH_SIZE,\n",
    "    validation_data=(X_valid, Y_valid),\n",
    "    callbacks=[callbacks.EarlyStopping(patience=PATIENCE),\n",
    "               callbacks.TensorBoard(MODEL_DIR)],\n",
    ")\n",
    "\n",
    "pd.DataFrame(dnn_history.history)[['loss', 'val_loss']].plot()\n",
    "pd.DataFrame(dnn_history.history)[['accuracy', 'val_accuracy']].plot()\n",
    "\n",
    "dnn_model.summary()"
   ]
  }
 ],
 "metadata": {
  "kernelspec": {
   "display_name": "base",
   "language": "python",
   "name": "python3"
  },
  "language_info": {
   "codemirror_mode": {
    "name": "ipython",
    "version": 3
   },
   "file_extension": ".py",
   "mimetype": "text/x-python",
   "name": "python",
   "nbconvert_exporter": "python",
   "pygments_lexer": "ipython3",
   "version": "3.12.7"
  }
 },
 "nbformat": 4,
 "nbformat_minor": 5
}
