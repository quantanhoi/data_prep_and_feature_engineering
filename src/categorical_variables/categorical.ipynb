{
 "cells": [
  {
   "cell_type": "code",
   "execution_count": 28,
   "id": "e178906f",
   "metadata": {},
   "outputs": [
    {
     "name": "stdout",
     "output_type": "stream",
     "text": [
      "Python exe : /usr/bin/python3\n",
      "pandas     : 2.1.4\n",
      "has pyarrow: False\n",
      "has fparq  : False\n"
     ]
    }
   ],
   "source": [
    "import sys, pandas as pd, importlib.util\n",
    "print(\"Python exe :\", sys.executable)\n",
    "print(\"pandas     :\", pd.__version__)\n",
    "print(\"has pyarrow:\", importlib.util.find_spec(\"pyarrow\") is not None)\n",
    "print(\"has fparq  :\", importlib.util.find_spec(\"fastparquet\") is not None)\n"
   ]
  },
  {
   "cell_type": "code",
   "execution_count": 12,
   "id": "920b6cb9",
   "metadata": {},
   "outputs": [
    {
     "name": "stdout",
     "output_type": "stream",
     "text": [
      "0    a little extra\n",
      "1           average\n",
      "2              thin\n",
      "3              thin\n",
      "4          athletic\n",
      "Name: body_type, dtype: object\n",
      "(59946, 21)\n"
     ]
    }
   ],
   "source": [
    "import pandas as pd\n",
    "df = pd.read_parquet('okcupid_profiles.parquet', engine='fastparquet')\n",
    "print(df.head()['body_type'])\n",
    "print(df.shape)\n"
   ]
  },
  {
   "cell_type": "code",
   "execution_count": 3,
   "id": "66faf0a5",
   "metadata": {},
   "outputs": [
    {
     "name": "stdout",
     "output_type": "stream",
     "text": [
      "Feature names: ['body_type_a little extra' 'body_type_athletic' 'body_type_average'\n",
      " 'body_type_curvy' 'body_type_fit' 'body_type_full figured'\n",
      " 'body_type_jacked' 'body_type_overweight' 'body_type_rather not say'\n",
      " 'body_type_skinny' 'body_type_thin' 'body_type_used up' 'body_type_None']\n"
     ]
    }
   ],
   "source": [
    "from sklearn.preprocessing import OneHotEncoder\n",
    "# Create OneHotEncoder\n",
    "encoder = OneHotEncoder(sparse_output=False, handle_unknown='ignore')\n",
    "# Fit and transform body_type column\n",
    "encoded_data = encoder.fit_transform(df[['body_type']])\n",
    "# Bonus 1: Get feature names\n",
    "feature_names = encoder.get_feature_names_out(['body_type'])\n",
    "print(f\"Feature names: {feature_names}\")\n"
   ]
  },
  {
   "cell_type": "code",
   "execution_count": 4,
   "id": "c0d03bfe",
   "metadata": {},
   "outputs": [
    {
     "name": "stdout",
     "output_type": "stream",
     "text": [
      "   body_type_a little extra  body_type_athletic  body_type_average  \\\n",
      "0                       1.0                 0.0                0.0   \n",
      "1                       0.0                 0.0                1.0   \n",
      "2                       0.0                 0.0                0.0   \n",
      "3                       0.0                 0.0                0.0   \n",
      "4                       0.0                 1.0                0.0   \n",
      "\n",
      "   body_type_curvy  body_type_fit  body_type_full figured  body_type_jacked  \\\n",
      "0              0.0            0.0                     0.0               0.0   \n",
      "1              0.0            0.0                     0.0               0.0   \n",
      "2              0.0            0.0                     0.0               0.0   \n",
      "3              0.0            0.0                     0.0               0.0   \n",
      "4              0.0            0.0                     0.0               0.0   \n",
      "\n",
      "   body_type_overweight  body_type_rather not say  body_type_skinny  \\\n",
      "0                   0.0                       0.0               0.0   \n",
      "1                   0.0                       0.0               0.0   \n",
      "2                   0.0                       0.0               0.0   \n",
      "3                   0.0                       0.0               0.0   \n",
      "4                   0.0                       0.0               0.0   \n",
      "\n",
      "   body_type_thin  body_type_used up  body_type_None  \n",
      "0             0.0                0.0             0.0  \n",
      "1             0.0                0.0             0.0  \n",
      "2             1.0                0.0             0.0  \n",
      "3             1.0                0.0             0.0  \n",
      "4             0.0                0.0             0.0  \n"
     ]
    }
   ],
   "source": [
    "# Create DataFrame with encoded columns\n",
    "encoded_df = pd.DataFrame(encoded_data, columns=feature_names)\n",
    "print(encoded_df.head())"
   ]
  },
  {
   "cell_type": "code",
   "execution_count": 10,
   "id": "e01b00c2",
   "metadata": {},
   "outputs": [
    {
     "name": "stdout",
     "output_type": "stream",
     "text": [
      "Dummy coded DataFrame: \n",
      "   body_athletic  body_average  body_curvy  body_fit  body_full figured  \\\n",
      "0          False         False       False     False              False   \n",
      "1          False          True       False     False              False   \n",
      "2          False         False       False     False              False   \n",
      "3          False         False       False     False              False   \n",
      "4           True         False       False     False              False   \n",
      "\n",
      "   body_jacked  body_overweight  body_rather not say  body_skinny  body_thin  \\\n",
      "0        False            False                False        False      False   \n",
      "1        False            False                False        False      False   \n",
      "2        False            False                False        False       True   \n",
      "3        False            False                False        False       True   \n",
      "4        False            False                False        False      False   \n",
      "\n",
      "   body_used up  \n",
      "0         False  \n",
      "1         False  \n",
      "2         False  \n",
      "3         False  \n",
      "4         False  \n"
     ]
    }
   ],
   "source": [
    "#Dummy Coding\n",
    "dummies = pd.get_dummies(df[\"body_type\"], prefix=\"body\", drop_first=True)\n",
    "df_dummy = pd.concat([df.drop(columns=[\"body_type\"]), dummies], axis=1)\n",
    "\n",
    "print(\"Dummy coded DataFrame: \", dummies.head(), sep=\"\\n\")\n"
   ]
  },
  {
   "cell_type": "code",
   "execution_count": 6,
   "id": "ccedf777",
   "metadata": {},
   "outputs": [
    {
     "name": "stdout",
     "output_type": "stream",
     "text": [
      "Effect coded DataFrame: \n",
      "  body_athletic body_average body_curvy body_fit body_full figured  \\\n",
      "0            -1           -1         -1       -1                -1   \n",
      "1         False         True      False    False             False   \n",
      "2         False        False      False    False             False   \n",
      "3         False        False      False    False             False   \n",
      "4          True        False      False    False             False   \n",
      "\n",
      "  body_jacked body_overweight body_rather not say body_skinny body_thin  \\\n",
      "0          -1              -1                  -1          -1        -1   \n",
      "1       False           False               False       False     False   \n",
      "2       False           False               False       False      True   \n",
      "3       False           False               False       False      True   \n",
      "4       False           False               False       False     False   \n",
      "\n",
      "  body_used up  \n",
      "0           -1  \n",
      "1        False  \n",
      "2        False  \n",
      "3        False  \n",
      "4        False  \n"
     ]
    },
    {
     "name": "stderr",
     "output_type": "stream",
     "text": [
      "/tmp/ipykernel_155796/1784277241.py:9: FutureWarning: Setting an item of incompatible dtype is deprecated and will raise an error in a future version of pandas. Value '-1' has dtype incompatible with bool, please explicitly cast to a compatible dtype first.\n",
      "  dummies.loc[ref_mask, :] = -1\n",
      "/tmp/ipykernel_155796/1784277241.py:9: FutureWarning: Setting an item of incompatible dtype is deprecated and will raise an error in a future version of pandas. Value '-1' has dtype incompatible with bool, please explicitly cast to a compatible dtype first.\n",
      "  dummies.loc[ref_mask, :] = -1\n",
      "/tmp/ipykernel_155796/1784277241.py:9: FutureWarning: Setting an item of incompatible dtype is deprecated and will raise an error in a future version of pandas. Value '-1' has dtype incompatible with bool, please explicitly cast to a compatible dtype first.\n",
      "  dummies.loc[ref_mask, :] = -1\n",
      "/tmp/ipykernel_155796/1784277241.py:9: FutureWarning: Setting an item of incompatible dtype is deprecated and will raise an error in a future version of pandas. Value '-1' has dtype incompatible with bool, please explicitly cast to a compatible dtype first.\n",
      "  dummies.loc[ref_mask, :] = -1\n",
      "/tmp/ipykernel_155796/1784277241.py:9: FutureWarning: Setting an item of incompatible dtype is deprecated and will raise an error in a future version of pandas. Value '-1' has dtype incompatible with bool, please explicitly cast to a compatible dtype first.\n",
      "  dummies.loc[ref_mask, :] = -1\n",
      "/tmp/ipykernel_155796/1784277241.py:9: FutureWarning: Setting an item of incompatible dtype is deprecated and will raise an error in a future version of pandas. Value '-1' has dtype incompatible with bool, please explicitly cast to a compatible dtype first.\n",
      "  dummies.loc[ref_mask, :] = -1\n",
      "/tmp/ipykernel_155796/1784277241.py:9: FutureWarning: Setting an item of incompatible dtype is deprecated and will raise an error in a future version of pandas. Value '-1' has dtype incompatible with bool, please explicitly cast to a compatible dtype first.\n",
      "  dummies.loc[ref_mask, :] = -1\n",
      "/tmp/ipykernel_155796/1784277241.py:9: FutureWarning: Setting an item of incompatible dtype is deprecated and will raise an error in a future version of pandas. Value '-1' has dtype incompatible with bool, please explicitly cast to a compatible dtype first.\n",
      "  dummies.loc[ref_mask, :] = -1\n",
      "/tmp/ipykernel_155796/1784277241.py:9: FutureWarning: Setting an item of incompatible dtype is deprecated and will raise an error in a future version of pandas. Value '-1' has dtype incompatible with bool, please explicitly cast to a compatible dtype first.\n",
      "  dummies.loc[ref_mask, :] = -1\n",
      "/tmp/ipykernel_155796/1784277241.py:9: FutureWarning: Setting an item of incompatible dtype is deprecated and will raise an error in a future version of pandas. Value '-1' has dtype incompatible with bool, please explicitly cast to a compatible dtype first.\n",
      "  dummies.loc[ref_mask, :] = -1\n",
      "/tmp/ipykernel_155796/1784277241.py:9: FutureWarning: Setting an item of incompatible dtype is deprecated and will raise an error in a future version of pandas. Value '-1' has dtype incompatible with bool, please explicitly cast to a compatible dtype first.\n",
      "  dummies.loc[ref_mask, :] = -1\n"
     ]
    }
   ],
   "source": [
    "#Effect Coding\n",
    "import pandas as pd\n",
    "\n",
    "def effect_code(series: pd.Series, prefix=\"x\"):\n",
    "    \"\"\"Return an effect–coded DataFrame (K-1 columns, 1/0/-1).\"\"\"\n",
    "    dummies = pd.get_dummies(series, prefix=prefix, drop_first=True)\n",
    "    # rows that were dropped_first() become the reference --> turn the 0s into -1\n",
    "    ref_mask = (~series.isna()) & (dummies.sum(axis=1) == 0)\n",
    "    dummies.loc[ref_mask, :] = -1\n",
    "    return dummies\n",
    "\n",
    "ec = effect_code(df[\"body_type\"], prefix=\"body\")\n",
    "df_ec = pd.concat([df.drop(columns=\"body_type\"), ec], axis=1)\n",
    "print(\"Effect coded DataFrame: \", ec.head(), sep=\"\\n\")\n"
   ]
  },
  {
   "cell_type": "code",
   "execution_count": 14,
   "id": "22465d55",
   "metadata": {},
   "outputs": [
    {
     "name": "stdout",
     "output_type": "stream",
     "text": [
      "   body_a little extra  body_athletic  body_average  body_curvy  body_fit  \\\n",
      "0                 True          False         False       False     False   \n",
      "1                False          False          True       False     False   \n",
      "\n",
      "   body_full figured  body_jacked  body_other  body_overweight  body_skinny  \\\n",
      "0              False        False       False            False        False   \n",
      "1              False        False       False            False        False   \n",
      "\n",
      "   body_thin  body_used up  \n",
      "0      False         False  \n",
      "1      False         False  \n"
     ]
    }
   ],
   "source": [
    "# Effect Coding\n",
    "def frequency_cutoff(series: pd.Series, min_count: int = 100) -> pd.Series:\n",
    "    \"\"\"Replace infrequent levels by 'other'.\"\"\"\n",
    "    vc = series.value_counts()\n",
    "    return series.where(series.map(vc) >= min_count, other=\"other\")\n",
    "\n",
    "df[\"body_type_cut\"] = frequency_cutoff(df[\"body_type\"], min_count=200)\n",
    "dummies = pd.get_dummies(df[\"body_type_cut\"], prefix=\"body\")\n",
    "\n",
    "print(dummies.head(2))"
   ]
  },
  {
   "cell_type": "code",
   "execution_count": 15,
   "id": "99ecc55d",
   "metadata": {},
   "outputs": [
    {
     "name": "stdout",
     "output_type": "stream",
     "text": [
      "Encoded DataFrame with OHE: \n",
      "   body_type_athletic  body_type_average  body_type_curvy  body_type_fit  \\\n",
      "0                 0.0                0.0              0.0            0.0   \n",
      "1                 0.0                1.0              0.0            0.0   \n",
      "\n",
      "   body_type_full figured  body_type_jacked  body_type_overweight  \\\n",
      "0                     0.0               0.0                   0.0   \n",
      "1                     0.0               0.0                   0.0   \n",
      "\n",
      "   body_type_skinny  body_type_thin  body_type_used up  body_type_None  \\\n",
      "0               0.0             0.0                0.0             0.0   \n",
      "1               0.0             0.0                0.0             0.0   \n",
      "\n",
      "   body_type_infrequent_sklearn  \n",
      "0                           0.0  \n",
      "1                           0.0  \n"
     ]
    }
   ],
   "source": [
    "from sklearn.preprocessing import OneHotEncoder\n",
    "\n",
    "ohe = OneHotEncoder(\n",
    "        handle_unknown=\"infrequent_if_exist\",\n",
    "        min_frequency=200,   # absolute cut-off\n",
    "        drop=\"first\"         # optional: keeps dummy coding\n",
    ")\n",
    "X_encoded = ohe.fit_transform(df[[\"body_type\"]])\n",
    "print(\"Encoded DataFrame with OHE: \", pd.DataFrame(X_encoded.toarray(), columns=ohe.get_feature_names_out()).head(2), sep=\"\\n\")\n",
    "\n"
   ]
  },
  {
   "cell_type": "code",
   "execution_count": null,
   "id": "ffde8a37",
   "metadata": {},
   "outputs": [
    {
     "name": "stdout",
     "output_type": "stream",
     "text": [
      "liked      non_like  like  total      odds_num\n",
      "body_type                                     \n",
      "athletic          1     1      2  9.999990e-01\n",
      "average           0     3      3  3.000000e+06\n",
      "curvy             2     0      2  0.000000e+00\n",
      "thin              0     1      1  1.000000e+06\n"
     ]
    }
   ],
   "source": [
    "import pandas as pd\n",
    "import numpy as np\n",
    "\n",
    "# toy sample ─────────────────────────────────────────────\n",
    "df = pd.DataFrame({\n",
    "    \"body_type\": [\"average\", \"athletic\", \"average\", \"curvy\",\n",
    "                  \"athletic\", \"thin\", \"curvy\", \"average\"],\n",
    "    \"liked\":     [1,          0,          1,        0,\n",
    "                  1,          1,       0,        1]       # 1 = liked, 0 = skipped\n",
    "})\n",
    "print(\"Sample DataFrame:\\n\", df, sep=\"\\n\")\n",
    "\n",
    "# 1) build the 2-way contingency table\n",
    "ct = (\n",
    "    pd.crosstab(df.body_type, df.liked)\n",
    "      .rename(columns={0: \"non_like\", 1: \"like\"})\n",
    "      .assign(                                  # extra stats we care about\n",
    "          total     = lambda x: x.like + x.non_like,\n",
    "          # numerator of odds ratio  = like / (non_like + ε)\n",
    "          odds_num  = lambda x: x.like / (x.non_like + 1e-6)\n",
    "      )\n",
    ")\n",
    "\n",
    "print(ct)\n"
   ]
  }
 ],
 "metadata": {
  "kernelspec": {
   "display_name": ".venv (3.12.3)",
   "language": "python",
   "name": "python3"
  },
  "language_info": {
   "codemirror_mode": {
    "name": "ipython",
    "version": 3
   },
   "file_extension": ".py",
   "mimetype": "text/x-python",
   "name": "python",
   "nbconvert_exporter": "python",
   "pygments_lexer": "ipython3",
   "version": "3.12.3"
  }
 },
 "nbformat": 4,
 "nbformat_minor": 5
}
