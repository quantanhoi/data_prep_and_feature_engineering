{
  "cells": [
    {
      "cell_type": "markdown",
      "id": "42a14256-91c8-446e-92a7-ab6bf11055d3",
      "metadata": {},
      "source": [
        "{ “cells”: \\[ { “cell_type”: “code”, “execution_count”: 1, “metadata”:\n",
        "{}, “outputs”: \\[\\], “source”: \\[ “import requests”, “import pandas as\n",
        "pd” \\] }, { “cell_type”: “code”, “execution_count”: 2, “metadata”: {},\n",
        "“outputs”: \\[\\], “source”: \\[ “base_url =\n",
        "‘https://services.odata.org/TripPinRESTierService/’”, “end_point =\n",
        "‘People’” \\] }, { “cell_type”: “code”, “execution_count”: 4, “metadata”:\n",
        "{}, “outputs”: \\[\\], “source”: \\[ “response = requests.get(”, ”\n",
        "url=base_url + end_point,“,” params={“,”\n",
        "‘$format': 'json',\\n\",  \" '$top’ : 30“,” }“,”)” \\] } \\], “metadata”: {\n",
        "“kernelspec”: { “display_name”: “.venv”, “language”: “python”, “name”:\n",
        "“python3” }, “language_info”: { “codemirror_mode”: { “name”: “ipython”,\n",
        "“version”: 3 }, “file_extension”: “.py”, “mimetype”: “text/x-python”,\n",
        "“name”: “python”, “nbconvert_exporter”: “python”, “pygments_lexer”:\n",
        "“ipython3”, “version”: “3.12.8” }, “orig_nbformat”: 4 }, “nbformat”: 4,\n",
        "“nbformat_minor”: 2 }"
      ]
    },
    {
      "cell_type": "code",
      "execution_count": null,
      "id": "217d5bd8",
      "metadata": {},
      "outputs": [],
      "source": []
    }
  ],
  "metadata": {
    "kernelspec": {
      "display_name": "Python 3",
      "language": "python",
      "name": "python3"
    },
    "language_info": {
      "name": "python",
      "version": "3.12.3"
    }
  },
  "nbformat": 4,
  "nbformat_minor": 5
}
