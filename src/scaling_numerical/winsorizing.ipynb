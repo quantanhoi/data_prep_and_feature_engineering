{
 "cells": [
  {
   "cell_type": "code",
   "execution_count": 1,
   "id": "9db74482",
   "metadata": {},
   "outputs": [
    {
     "name": "stdout",
     "output_type": "stream",
     "text": [
      "   longitude  latitude  housing_median_age  total_rooms  total_bedrooms  \\\n",
      "0    -122.23     37.88                41.0        880.0           129.0   \n",
      "1    -122.22     37.86                21.0       7099.0          1106.0   \n",
      "\n",
      "   population  households  median_income  median_house_value ocean_proximity  \n",
      "0       322.0       126.0         8.3252            452600.0        NEAR BAY  \n",
      "1      2401.0      1138.0         8.3014            358500.0        NEAR BAY  \n"
     ]
    }
   ],
   "source": [
    "import pandas as pd\n",
    "import numpy as np\n",
    "import matplotlib.pyplot as plt\n",
    "\n",
    "\n",
    "\n",
    "df = pd.read_csv('housing.csv')\n",
    "print(df.head(2))"
   ]
  },
  {
   "cell_type": "code",
   "execution_count": null,
   "id": "fc87620e",
   "metadata": {},
   "outputs": [
    {
     "name": "stdout",
     "output_type": "stream",
     "text": [
      "   total_rooms  total_rooms_w  total_rooms_scaled\n",
      "0        880.0          941.0           -1.000000\n",
      "1       7099.0         4651.5            1.000000\n",
      "2       1467.0         1467.0           -0.716480\n",
      "3       1274.0         1274.0           -0.820509\n",
      "4       1627.0         1627.0           -0.630239\n"
     ]
    }
   ],
   "source": [
    "import pandas as pd\n",
    "from sklearn.preprocessing import MinMaxScaler\n",
    "\n",
    "# ---- 1. pick a column ----------------------------------------------------\n",
    "col = 'total_rooms'\n",
    "train = df[[col]].copy()                        # fit only on training split!\n",
    "\n",
    "# ---- 2. derive empirical cut-offs ----------------------------------------\n",
    "lo, hi = train[col].quantile([0.10, 0.90])      # 10th / 90th pct\n",
    "\n",
    "# ---- 3. winsorize (= clip to those cut-offs) -----------------------------\n",
    "train[col + '_w'] = train[col].clip(lo, hi)\n",
    "\n",
    "# ---- 4. (optional) scale the capped data to [-1, 1] ----------------------\n",
    "scaler = MinMaxScaler(feature_range=(-1, 1))\n",
    "train[col + '_scaled'] = scaler.fit_transform(train[[col + '_w']])\n",
    "\n",
    "print(train.head(5))"
   ]
  },
  {
   "cell_type": "code",
   "execution_count": null,
   "id": "d0a0d63f",
   "metadata": {},
   "outputs": [
    {
     "name": "stdout",
     "output_type": "stream",
     "text": [
      "   total_rooms  total_rooms_w  total_rooms_scaled\n",
      "0        880.0          941.0           -1.000000\n",
      "1       7099.0         4651.5            1.000000\n",
      "2       1467.0         1467.0           -0.716480\n",
      "3       1274.0         1274.0           -0.820509\n",
      "4       1627.0         1627.0           -0.630239\n"
     ]
    }
   ],
   "source": [
    "# ---- 5. reuse the same transform on any future data ----------------------\n",
    "def apply_winsor_scale(new_df):\n",
    "    new_df = new_df.copy()\n",
    "    new_df[col + '_w']      = new_df[col].clip(lo, hi)\n",
    "    new_df[col + '_scaled'] = scaler.transform(new_df[[col + '_w']])\n",
    "    return new_df\n",
    "\n",
    "w_df = apply_winsor_scale(df['total_rooms'].copy().to_frame())\n",
    "print(w_df.head(5))"
   ]
  }
 ],
 "metadata": {
  "kernelspec": {
   "display_name": "Python 3",
   "language": "python",
   "name": "python3"
  },
  "language_info": {
   "codemirror_mode": {
    "name": "ipython",
    "version": 3
   },
   "file_extension": ".py",
   "mimetype": "text/x-python",
   "name": "python",
   "nbconvert_exporter": "python",
   "pygments_lexer": "ipython3",
   "version": "3.11.9"
  }
 },
 "nbformat": 4,
 "nbformat_minor": 5
}
