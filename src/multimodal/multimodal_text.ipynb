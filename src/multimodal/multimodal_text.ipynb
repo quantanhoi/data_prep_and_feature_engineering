{
 "cells": [
  {
   "cell_type": "code",
   "execution_count": 4,
   "id": "8094be92",
   "metadata": {},
   "outputs": [],
   "source": [
    "\n",
    "import numpy as np\n",
    "import pandas as pd\n",
    "import tensorflow as tf\n",
    "\n",
    "from tensorflow import keras\n",
    "from tensorflow.keras import Model\n",
    "from tensorflow.keras.layers import Dense, Embedding, Input, Flatten, Conv2D, MaxPooling2D\n",
    "\n",
    "from google.cloud import bigquery"
   ]
  },
  {
   "cell_type": "code",
   "execution_count": 5,
   "id": "f2ef7807",
   "metadata": {},
   "outputs": [],
   "source": [
    "import os\n",
    "os.environ['GOOGLE_APPLICATION_CREDENTIALS'] = \"noble-district-459911-t9-1c0ed90c64dd.json\""
   ]
  },
  {
   "cell_type": "code",
   "execution_count": 7,
   "id": "50ed1330",
   "metadata": {},
   "outputs": [
    {
     "ename": "DefaultCredentialsError",
     "evalue": "File noble-district-459911-t9-1c0ed90c64dd.json was not found.",
     "output_type": "error",
     "traceback": [
      "\u001b[0;31m---------------------------------------------------------------------------\u001b[0m",
      "\u001b[0;31mDefaultCredentialsError\u001b[0m                   Traceback (most recent call last)",
      "Cell \u001b[0;32mIn[7], line 2\u001b[0m\n\u001b[1;32m      1\u001b[0m \u001b[38;5;28;01mfrom\u001b[39;00m \u001b[38;5;21;01mgoogle\u001b[39;00m\u001b[38;5;21;01m.\u001b[39;00m\u001b[38;5;21;01mcloud\u001b[39;00m \u001b[38;5;28;01mimport\u001b[39;00m bigquery\n\u001b[0;32m----> 2\u001b[0m client \u001b[38;5;241m=\u001b[39m bigquery\u001b[38;5;241m.\u001b[39mClient(project\u001b[38;5;241m=\u001b[39m\u001b[38;5;124m\"\u001b[39m\u001b[38;5;124mnoble-district-459911-t9\u001b[39m\u001b[38;5;124m\"\u001b[39m)\n",
      "File \u001b[0;32m~/anaconda3/lib/python3.12/site-packages/google/cloud/bigquery/client.py:258\u001b[0m, in \u001b[0;36mClient.__init__\u001b[0;34m(self, project, credentials, _http, location, default_query_job_config, default_load_job_config, client_info, client_options, default_job_creation_mode)\u001b[0m\n\u001b[1;32m    255\u001b[0m     client_options \u001b[38;5;241m=\u001b[39m google\u001b[38;5;241m.\u001b[39mapi_core\u001b[38;5;241m.\u001b[39mclient_options\u001b[38;5;241m.\u001b[39mfrom_dict(client_options)\n\u001b[1;32m    256\u001b[0m \u001b[38;5;66;03m# assert isinstance(client_options, google.api_core.client_options.ClientOptions)\u001b[39;00m\n\u001b[0;32m--> 258\u001b[0m \u001b[38;5;28msuper\u001b[39m(Client, \u001b[38;5;28mself\u001b[39m)\u001b[38;5;241m.\u001b[39m\u001b[38;5;21m__init__\u001b[39m(\n\u001b[1;32m    259\u001b[0m     project\u001b[38;5;241m=\u001b[39mproject,\n\u001b[1;32m    260\u001b[0m     credentials\u001b[38;5;241m=\u001b[39mcredentials,\n\u001b[1;32m    261\u001b[0m     client_options\u001b[38;5;241m=\u001b[39mclient_options,\n\u001b[1;32m    262\u001b[0m     _http\u001b[38;5;241m=\u001b[39m_http,\n\u001b[1;32m    263\u001b[0m )\n\u001b[1;32m    265\u001b[0m kw_args: Dict[\u001b[38;5;28mstr\u001b[39m, Any] \u001b[38;5;241m=\u001b[39m {\u001b[38;5;124m\"\u001b[39m\u001b[38;5;124mclient_info\u001b[39m\u001b[38;5;124m\"\u001b[39m: client_info}\n\u001b[1;32m    266\u001b[0m bq_host \u001b[38;5;241m=\u001b[39m _get_bigquery_host()\n",
      "File \u001b[0;32m~/anaconda3/lib/python3.12/site-packages/google/cloud/client/__init__.py:339\u001b[0m, in \u001b[0;36mClientWithProject.__init__\u001b[0;34m(self, project, credentials, client_options, _http)\u001b[0m\n\u001b[1;32m    337\u001b[0m \u001b[38;5;28;01mdef\u001b[39;00m \u001b[38;5;21m__init__\u001b[39m(\u001b[38;5;28mself\u001b[39m, project\u001b[38;5;241m=\u001b[39m\u001b[38;5;28;01mNone\u001b[39;00m, credentials\u001b[38;5;241m=\u001b[39m\u001b[38;5;28;01mNone\u001b[39;00m, client_options\u001b[38;5;241m=\u001b[39m\u001b[38;5;28;01mNone\u001b[39;00m, _http\u001b[38;5;241m=\u001b[39m\u001b[38;5;28;01mNone\u001b[39;00m):\n\u001b[1;32m    338\u001b[0m     _ClientProjectMixin\u001b[38;5;241m.\u001b[39m\u001b[38;5;21m__init__\u001b[39m(\u001b[38;5;28mself\u001b[39m, project\u001b[38;5;241m=\u001b[39mproject, credentials\u001b[38;5;241m=\u001b[39mcredentials)\n\u001b[0;32m--> 339\u001b[0m     Client\u001b[38;5;241m.\u001b[39m\u001b[38;5;21m__init__\u001b[39m(\n\u001b[1;32m    340\u001b[0m         \u001b[38;5;28mself\u001b[39m, credentials\u001b[38;5;241m=\u001b[39mcredentials, client_options\u001b[38;5;241m=\u001b[39mclient_options, _http\u001b[38;5;241m=\u001b[39m_http\n\u001b[1;32m    341\u001b[0m     )\n",
      "File \u001b[0;32m~/anaconda3/lib/python3.12/site-packages/google/cloud/client/__init__.py:196\u001b[0m, in \u001b[0;36mClient.__init__\u001b[0;34m(self, credentials, _http, client_options)\u001b[0m\n\u001b[1;32m    194\u001b[0m         credentials \u001b[38;5;241m=\u001b[39m google\u001b[38;5;241m.\u001b[39mauth\u001b[38;5;241m.\u001b[39mapi_key\u001b[38;5;241m.\u001b[39mCredentials(client_options\u001b[38;5;241m.\u001b[39mapi_key)\n\u001b[1;32m    195\u001b[0m     \u001b[38;5;28;01melse\u001b[39;00m:\n\u001b[0;32m--> 196\u001b[0m         credentials, _ \u001b[38;5;241m=\u001b[39m google\u001b[38;5;241m.\u001b[39mauth\u001b[38;5;241m.\u001b[39mdefault(scopes\u001b[38;5;241m=\u001b[39mscopes)\n\u001b[1;32m    198\u001b[0m \u001b[38;5;28mself\u001b[39m\u001b[38;5;241m.\u001b[39m_credentials \u001b[38;5;241m=\u001b[39m google\u001b[38;5;241m.\u001b[39mauth\u001b[38;5;241m.\u001b[39mcredentials\u001b[38;5;241m.\u001b[39mwith_scopes_if_required(\n\u001b[1;32m    199\u001b[0m     credentials, scopes\u001b[38;5;241m=\u001b[39mscopes\n\u001b[1;32m    200\u001b[0m )\n\u001b[1;32m    202\u001b[0m \u001b[38;5;28;01mif\u001b[39;00m client_options\u001b[38;5;241m.\u001b[39mquota_project_id:\n",
      "File \u001b[0;32m~/anaconda3/lib/python3.12/site-packages/google/auth/_default.py:651\u001b[0m, in \u001b[0;36mdefault\u001b[0;34m(scopes, request, quota_project_id, default_scopes)\u001b[0m\n\u001b[1;32m    639\u001b[0m checkers \u001b[38;5;241m=\u001b[39m (\n\u001b[1;32m    640\u001b[0m     \u001b[38;5;66;03m# Avoid passing scopes here to prevent passing scopes to user credentials.\u001b[39;00m\n\u001b[1;32m    641\u001b[0m     \u001b[38;5;66;03m# with_scopes_if_required() below will ensure scopes/default scopes are\u001b[39;00m\n\u001b[0;32m   (...)\u001b[0m\n\u001b[1;32m    647\u001b[0m     \u001b[38;5;28;01mlambda\u001b[39;00m: _get_gce_credentials(request, quota_project_id\u001b[38;5;241m=\u001b[39mquota_project_id),\n\u001b[1;32m    648\u001b[0m )\n\u001b[1;32m    650\u001b[0m \u001b[38;5;28;01mfor\u001b[39;00m checker \u001b[38;5;129;01min\u001b[39;00m checkers:\n\u001b[0;32m--> 651\u001b[0m     credentials, project_id \u001b[38;5;241m=\u001b[39m checker()\n\u001b[1;32m    652\u001b[0m     \u001b[38;5;28;01mif\u001b[39;00m credentials \u001b[38;5;129;01mis\u001b[39;00m \u001b[38;5;129;01mnot\u001b[39;00m \u001b[38;5;28;01mNone\u001b[39;00m:\n\u001b[1;32m    653\u001b[0m         credentials \u001b[38;5;241m=\u001b[39m with_scopes_if_required(\n\u001b[1;32m    654\u001b[0m             credentials, scopes, default_scopes\u001b[38;5;241m=\u001b[39mdefault_scopes\n\u001b[1;32m    655\u001b[0m         )\n",
      "File \u001b[0;32m~/anaconda3/lib/python3.12/site-packages/google/auth/_default.py:644\u001b[0m, in \u001b[0;36mdefault.<locals>.<lambda>\u001b[0;34m()\u001b[0m\n\u001b[1;32m    633\u001b[0m \u001b[38;5;28;01mfrom\u001b[39;00m \u001b[38;5;21;01mgoogle\u001b[39;00m\u001b[38;5;21;01m.\u001b[39;00m\u001b[38;5;21;01mauth\u001b[39;00m\u001b[38;5;21;01m.\u001b[39;00m\u001b[38;5;21;01mcredentials\u001b[39;00m \u001b[38;5;28;01mimport\u001b[39;00m CredentialsWithQuotaProject\n\u001b[1;32m    635\u001b[0m explicit_project_id \u001b[38;5;241m=\u001b[39m os\u001b[38;5;241m.\u001b[39menviron\u001b[38;5;241m.\u001b[39mget(\n\u001b[1;32m    636\u001b[0m     environment_vars\u001b[38;5;241m.\u001b[39mPROJECT, os\u001b[38;5;241m.\u001b[39menviron\u001b[38;5;241m.\u001b[39mget(environment_vars\u001b[38;5;241m.\u001b[39mLEGACY_PROJECT)\n\u001b[1;32m    637\u001b[0m )\n\u001b[1;32m    639\u001b[0m checkers \u001b[38;5;241m=\u001b[39m (\n\u001b[1;32m    640\u001b[0m     \u001b[38;5;66;03m# Avoid passing scopes here to prevent passing scopes to user credentials.\u001b[39;00m\n\u001b[1;32m    641\u001b[0m     \u001b[38;5;66;03m# with_scopes_if_required() below will ensure scopes/default scopes are\u001b[39;00m\n\u001b[1;32m    642\u001b[0m     \u001b[38;5;66;03m# safely set on the returned credentials since requires_scopes will\u001b[39;00m\n\u001b[1;32m    643\u001b[0m     \u001b[38;5;66;03m# guard against setting scopes on user credentials.\u001b[39;00m\n\u001b[0;32m--> 644\u001b[0m     \u001b[38;5;28;01mlambda\u001b[39;00m: _get_explicit_environ_credentials(quota_project_id\u001b[38;5;241m=\u001b[39mquota_project_id),\n\u001b[1;32m    645\u001b[0m     \u001b[38;5;28;01mlambda\u001b[39;00m: _get_gcloud_sdk_credentials(quota_project_id\u001b[38;5;241m=\u001b[39mquota_project_id),\n\u001b[1;32m    646\u001b[0m     _get_gae_credentials,\n\u001b[1;32m    647\u001b[0m     \u001b[38;5;28;01mlambda\u001b[39;00m: _get_gce_credentials(request, quota_project_id\u001b[38;5;241m=\u001b[39mquota_project_id),\n\u001b[1;32m    648\u001b[0m )\n\u001b[1;32m    650\u001b[0m \u001b[38;5;28;01mfor\u001b[39;00m checker \u001b[38;5;129;01min\u001b[39;00m checkers:\n\u001b[1;32m    651\u001b[0m     credentials, project_id \u001b[38;5;241m=\u001b[39m checker()\n",
      "File \u001b[0;32m~/anaconda3/lib/python3.12/site-packages/google/auth/_default.py:293\u001b[0m, in \u001b[0;36m_get_explicit_environ_credentials\u001b[0;34m(quota_project_id)\u001b[0m\n\u001b[1;32m    290\u001b[0m     \u001b[38;5;28;01mreturn\u001b[39;00m _get_gcloud_sdk_credentials(quota_project_id\u001b[38;5;241m=\u001b[39mquota_project_id)\n\u001b[1;32m    292\u001b[0m \u001b[38;5;28;01mif\u001b[39;00m explicit_file \u001b[38;5;129;01mis\u001b[39;00m \u001b[38;5;129;01mnot\u001b[39;00m \u001b[38;5;28;01mNone\u001b[39;00m:\n\u001b[0;32m--> 293\u001b[0m     credentials, project_id \u001b[38;5;241m=\u001b[39m load_credentials_from_file(\n\u001b[1;32m    294\u001b[0m         os\u001b[38;5;241m.\u001b[39menviron[environment_vars\u001b[38;5;241m.\u001b[39mCREDENTIALS], quota_project_id\u001b[38;5;241m=\u001b[39mquota_project_id\n\u001b[1;32m    295\u001b[0m     )\n\u001b[1;32m    296\u001b[0m     credentials\u001b[38;5;241m.\u001b[39m_cred_file_path \u001b[38;5;241m=\u001b[39m \u001b[38;5;124mf\u001b[39m\u001b[38;5;124m\"\u001b[39m\u001b[38;5;132;01m{\u001b[39;00mexplicit_file\u001b[38;5;132;01m}\u001b[39;00m\u001b[38;5;124m file via the GOOGLE_APPLICATION_CREDENTIALS environment variable\u001b[39m\u001b[38;5;124m\"\u001b[39m\n\u001b[1;32m    298\u001b[0m     \u001b[38;5;28;01mreturn\u001b[39;00m credentials, project_id\n",
      "File \u001b[0;32m~/anaconda3/lib/python3.12/site-packages/google/auth/_default.py:125\u001b[0m, in \u001b[0;36mload_credentials_from_file\u001b[0;34m(filename, scopes, default_scopes, quota_project_id, request)\u001b[0m\n\u001b[1;32m     82\u001b[0m \u001b[38;5;250m\u001b[39m\u001b[38;5;124;03m\"\"\"Loads Google credentials from a file.\u001b[39;00m\n\u001b[1;32m     83\u001b[0m \n\u001b[1;32m     84\u001b[0m \u001b[38;5;124;03mThe credentials file must be a service account key, stored authorized\u001b[39;00m\n\u001b[0;32m   (...)\u001b[0m\n\u001b[1;32m    122\u001b[0m \u001b[38;5;124;03m        wrong format or is missing.\u001b[39;00m\n\u001b[1;32m    123\u001b[0m \u001b[38;5;124;03m\"\"\"\u001b[39;00m\n\u001b[1;32m    124\u001b[0m \u001b[38;5;28;01mif\u001b[39;00m \u001b[38;5;129;01mnot\u001b[39;00m os\u001b[38;5;241m.\u001b[39mpath\u001b[38;5;241m.\u001b[39mexists(filename):\n\u001b[0;32m--> 125\u001b[0m     \u001b[38;5;28;01mraise\u001b[39;00m exceptions\u001b[38;5;241m.\u001b[39mDefaultCredentialsError(\n\u001b[1;32m    126\u001b[0m         \u001b[38;5;124m\"\u001b[39m\u001b[38;5;124mFile \u001b[39m\u001b[38;5;132;01m{}\u001b[39;00m\u001b[38;5;124m was not found.\u001b[39m\u001b[38;5;124m\"\u001b[39m\u001b[38;5;241m.\u001b[39mformat(filename)\n\u001b[1;32m    127\u001b[0m     )\n\u001b[1;32m    129\u001b[0m \u001b[38;5;28;01mwith\u001b[39;00m io\u001b[38;5;241m.\u001b[39mopen(filename, \u001b[38;5;124m\"\u001b[39m\u001b[38;5;124mr\u001b[39m\u001b[38;5;124m\"\u001b[39m) \u001b[38;5;28;01mas\u001b[39;00m file_obj:\n\u001b[1;32m    130\u001b[0m     \u001b[38;5;28;01mtry\u001b[39;00m:\n",
      "\u001b[0;31mDefaultCredentialsError\u001b[0m: File noble-district-459911-t9-1c0ed90c64dd.json was not found."
     ]
    }
   ],
   "source": [
    "\n",
    "from google.cloud import bigquery\n",
    "client = bigquery.Client(project=\"noble-district-459911-t9\")\n",
    "\n"
   ]
  },
  {
   "cell_type": "code",
   "execution_count": null,
   "id": "e444df57",
   "metadata": {},
   "outputs": [],
   "source": [
    "query = \"\"\"\n",
    "SELECT\n",
    "  title,\n",
    "  answer_count,\n",
    "  REPLACE(tags, \"|\", \",\") as tags\n",
    "FROM\n",
    "  `bigquery-public-data.stackoverflow.posts_questions`\n",
    "WHERE\n",
    "  REGEXP_CONTAINS( tags, r\"(?:keras|matplotlib|pandas)\")\n",
    "LIMIT 1000\n",
    " \"\"\""
   ]
  },
  {
   "cell_type": "code",
   "execution_count": null,
   "id": "c9929878",
   "metadata": {},
   "outputs": [],
   "source": [
    "df = client.query(query).to_dataframe()"
   ]
  },
  {
   "cell_type": "code",
   "execution_count": null,
   "id": "ad74203a",
   "metadata": {},
   "outputs": [],
   "source": [
    "\n",
    "stacko_vocab_size = 200\n",
    "stacko_sequence_len = 40\n",
    "\n",
    "# Create a tokenizer for this data\n",
    "stacko_tokenize = keras.preprocessing.text.Tokenizer(num_words=stacko_vocab_size)\n",
    "stacko_tokenize.fit_on_texts(df['title'].values)"
   ]
  },
  {
   "cell_type": "code",
   "execution_count": null,
   "id": "8a363155",
   "metadata": {},
   "outputs": [],
   "source": [
    "\n",
    "# Preview the first 20 words in the Tokenizer's vocabulary\n",
    "list(stacko_tokenize.word_index.keys())[:20]"
   ]
  },
  {
   "cell_type": "code",
   "execution_count": null,
   "id": "25c0b8a4",
   "metadata": {},
   "outputs": [],
   "source": [
    "questions_train_embedding = stacko_tokenize.texts_to_sequences(df['title'].values)\n",
    "questions_train_embedding = keras.preprocessing.sequence.pad_sequences(questions_train_embedding, maxlen=stacko_sequence_len, padding='post')\n"
   ]
  },
  {
   "cell_type": "markdown",
   "id": "7354b84d",
   "metadata": {},
   "source": []
  },
  {
   "cell_type": "code",
   "execution_count": null,
   "id": "01e9bf20",
   "metadata": {},
   "outputs": [],
   "source": [
    "\n",
    "# Preview the embedding representation with the actual input text\n",
    "print(df['title'].iloc[0])\n",
    "print(questions_train_embedding[0])"
   ]
  },
  {
   "cell_type": "code",
   "execution_count": null,
   "id": "6fd4128c",
   "metadata": {},
   "outputs": [],
   "source": [
    "questions_train_matrix = stacko_tokenize.texts_to_matrix(df['title'].values)\n",
    "print(questions_train_matrix[0])"
   ]
  },
  {
   "cell_type": "code",
   "execution_count": null,
   "id": "b80ebb2b",
   "metadata": {},
   "outputs": [],
   "source": [
    "\n",
    "batch_size = len(df) # Note: we're using the whole dataset as the batch size for demo purposes\n",
    "\n",
    "embedding_input = Input(shape=(stacko_sequence_len,))\n",
    "embedding_layer = Embedding(batch_size, 64)(embedding_input)\n",
    "embedding_layer = Flatten()(embedding_layer)\n",
    "embedding_layer = Dense(32, activation='relu')(embedding_layer)\n",
    "\n",
    "bow_input = Input(shape=(stacko_vocab_size,))\n",
    "bow_layer = Dense(32, activation='relu')(bow_input)"
   ]
  },
  {
   "cell_type": "code",
   "execution_count": null,
   "id": "53f01040",
   "metadata": {},
   "outputs": [],
   "source": [
    "# Try to combine the two inputs"
   ]
  },
  {
   "cell_type": "code",
   "execution_count": null,
   "id": "b4373f2b",
   "metadata": {},
   "outputs": [],
   "source": []
  }
 ],
 "metadata": {
  "kernelspec": {
   "display_name": "base",
   "language": "python",
   "name": "python3"
  },
  "language_info": {
   "codemirror_mode": {
    "name": "ipython",
    "version": 3
   },
   "file_extension": ".py",
   "mimetype": "text/x-python",
   "name": "python",
   "nbconvert_exporter": "python",
   "pygments_lexer": "ipython3",
   "version": "3.12.7"
  }
 },
 "nbformat": 4,
 "nbformat_minor": 5
}
