{
 "cells": [
  {
   "cell_type": "code",
   "execution_count": 35,
   "id": "8094be92",
   "metadata": {},
   "outputs": [
    {
     "name": "stdout",
     "output_type": "stream",
     "text": [
      "Requirement already satisfied: google-cloud-bigquery in /home/trungthieu/anaconda3/lib/python3.12/site-packages (3.34.0)\n",
      "Requirement already satisfied: db-dtypes in /home/trungthieu/anaconda3/lib/python3.12/site-packages (1.4.3)\n",
      "Requirement already satisfied: pandas in /home/trungthieu/anaconda3/lib/python3.12/site-packages (2.2.2)\n",
      "Requirement already satisfied: google-api-core<3.0.0,>=2.11.1 in /home/trungthieu/anaconda3/lib/python3.12/site-packages (from google-api-core[grpc]<3.0.0,>=2.11.1->google-cloud-bigquery) (2.25.1)\n",
      "Requirement already satisfied: google-auth<3.0.0,>=2.14.1 in /home/trungthieu/anaconda3/lib/python3.12/site-packages (from google-cloud-bigquery) (2.40.3)\n",
      "Requirement already satisfied: google-cloud-core<3.0.0,>=2.4.1 in /home/trungthieu/anaconda3/lib/python3.12/site-packages (from google-cloud-bigquery) (2.4.3)\n",
      "Requirement already satisfied: google-resumable-media<3.0.0,>=2.0.0 in /home/trungthieu/anaconda3/lib/python3.12/site-packages (from google-cloud-bigquery) (2.7.2)\n",
      "Requirement already satisfied: packaging>=24.2.0 in /home/trungthieu/anaconda3/lib/python3.12/site-packages (from google-cloud-bigquery) (25.0)\n",
      "Requirement already satisfied: python-dateutil<3.0.0,>=2.8.2 in /home/trungthieu/anaconda3/lib/python3.12/site-packages (from google-cloud-bigquery) (2.9.0.post0)\n",
      "Requirement already satisfied: requests<3.0.0,>=2.21.0 in /home/trungthieu/anaconda3/lib/python3.12/site-packages (from google-cloud-bigquery) (2.32.3)\n",
      "Requirement already satisfied: numpy>=1.24.0 in /home/trungthieu/anaconda3/lib/python3.12/site-packages (from db-dtypes) (1.26.4)\n",
      "Requirement already satisfied: pyarrow>=13.0.0 in /home/trungthieu/anaconda3/lib/python3.12/site-packages (from db-dtypes) (16.1.0)\n",
      "Requirement already satisfied: pytz>=2020.1 in /home/trungthieu/anaconda3/lib/python3.12/site-packages (from pandas) (2024.1)\n",
      "Requirement already satisfied: tzdata>=2022.7 in /home/trungthieu/anaconda3/lib/python3.12/site-packages (from pandas) (2023.3)\n",
      "Requirement already satisfied: googleapis-common-protos<2.0.0,>=1.56.2 in /home/trungthieu/anaconda3/lib/python3.12/site-packages (from google-api-core<3.0.0,>=2.11.1->google-api-core[grpc]<3.0.0,>=2.11.1->google-cloud-bigquery) (1.70.0)\n",
      "Requirement already satisfied: protobuf!=3.20.0,!=3.20.1,!=4.21.0,!=4.21.1,!=4.21.2,!=4.21.3,!=4.21.4,!=4.21.5,<7.0.0,>=3.19.5 in /home/trungthieu/anaconda3/lib/python3.12/site-packages (from google-api-core<3.0.0,>=2.11.1->google-api-core[grpc]<3.0.0,>=2.11.1->google-cloud-bigquery) (6.31.1)\n",
      "Requirement already satisfied: proto-plus<2.0.0,>=1.22.3 in /home/trungthieu/anaconda3/lib/python3.12/site-packages (from google-api-core<3.0.0,>=2.11.1->google-api-core[grpc]<3.0.0,>=2.11.1->google-cloud-bigquery) (1.26.1)\n",
      "Requirement already satisfied: grpcio<2.0.0,>=1.33.2 in /home/trungthieu/anaconda3/lib/python3.12/site-packages (from google-api-core[grpc]<3.0.0,>=2.11.1->google-cloud-bigquery) (1.73.1)\n",
      "Requirement already satisfied: grpcio-status<2.0.0,>=1.33.2 in /home/trungthieu/anaconda3/lib/python3.12/site-packages (from google-api-core[grpc]<3.0.0,>=2.11.1->google-cloud-bigquery) (1.73.1)\n",
      "Requirement already satisfied: cachetools<6.0,>=2.0.0 in /home/trungthieu/anaconda3/lib/python3.12/site-packages (from google-auth<3.0.0,>=2.14.1->google-cloud-bigquery) (5.3.3)\n",
      "Requirement already satisfied: pyasn1-modules>=0.2.1 in /home/trungthieu/anaconda3/lib/python3.12/site-packages (from google-auth<3.0.0,>=2.14.1->google-cloud-bigquery) (0.2.8)\n",
      "Requirement already satisfied: rsa<5,>=3.1.4 in /home/trungthieu/anaconda3/lib/python3.12/site-packages (from google-auth<3.0.0,>=2.14.1->google-cloud-bigquery) (4.9.1)\n",
      "Requirement already satisfied: google-crc32c<2.0dev,>=1.0 in /home/trungthieu/anaconda3/lib/python3.12/site-packages (from google-resumable-media<3.0.0,>=2.0.0->google-cloud-bigquery) (1.7.1)\n",
      "Requirement already satisfied: six>=1.5 in /home/trungthieu/anaconda3/lib/python3.12/site-packages (from python-dateutil<3.0.0,>=2.8.2->google-cloud-bigquery) (1.16.0)\n",
      "Requirement already satisfied: charset-normalizer<4,>=2 in /home/trungthieu/anaconda3/lib/python3.12/site-packages (from requests<3.0.0,>=2.21.0->google-cloud-bigquery) (3.3.2)\n",
      "Requirement already satisfied: idna<4,>=2.5 in /home/trungthieu/anaconda3/lib/python3.12/site-packages (from requests<3.0.0,>=2.21.0->google-cloud-bigquery) (3.7)\n",
      "Requirement already satisfied: urllib3<3,>=1.21.1 in /home/trungthieu/anaconda3/lib/python3.12/site-packages (from requests<3.0.0,>=2.21.0->google-cloud-bigquery) (2.2.3)\n",
      "Requirement already satisfied: certifi>=2017.4.17 in /home/trungthieu/anaconda3/lib/python3.12/site-packages (from requests<3.0.0,>=2.21.0->google-cloud-bigquery) (2025.6.15)\n",
      "Requirement already satisfied: pyasn1<0.5.0,>=0.4.6 in /home/trungthieu/anaconda3/lib/python3.12/site-packages (from pyasn1-modules>=0.2.1->google-auth<3.0.0,>=2.14.1->google-cloud-bigquery) (0.4.8)\n"
     ]
    }
   ],
   "source": [
    "\n",
    "!pip install google-cloud-bigquery db-dtypes pandas\n",
    "\n",
    "import numpy as np\n",
    "import pandas as pd\n",
    "import tensorflow as tf\n",
    "\n",
    "from tensorflow import keras\n",
    "from tensorflow.keras import Model\n",
    "from tensorflow.keras.layers import Dense, Embedding, Input, Flatten, Conv2D, MaxPooling2D\n",
    "\n",
    "from google.cloud import bigquery"
   ]
  },
  {
   "cell_type": "code",
   "execution_count": 36,
   "id": "f2ef7807",
   "metadata": {},
   "outputs": [],
   "source": [
    "import os\n",
    "os.environ['GOOGLE_APPLICATION_CREDENTIALS'] = \"noble-district-459911-t9-1c0ed90c64dd.json\""
   ]
  },
  {
   "cell_type": "code",
   "execution_count": 37,
   "id": "50ed1330",
   "metadata": {},
   "outputs": [],
   "source": [
    "\n",
    "from google.cloud import bigquery\n",
    "client = bigquery.Client(project=\"noble-district-459911-t9\")\n",
    "\n"
   ]
  },
  {
   "cell_type": "code",
   "execution_count": 38,
   "id": "e444df57",
   "metadata": {},
   "outputs": [],
   "source": [
    "query = \"\"\"\n",
    "SELECT\n",
    "  title,\n",
    "  answer_count,\n",
    "  REPLACE(tags, \"|\", \",\") as tags\n",
    "FROM\n",
    "  `bigquery-public-data.stackoverflow.posts_questions`\n",
    "WHERE\n",
    "  REGEXP_CONTAINS( tags, r\"(?:keras|matplotlib|pandas)\")\n",
    "LIMIT 1000\n",
    " \"\"\""
   ]
  },
  {
   "cell_type": "code",
   "execution_count": 39,
   "id": "c9929878",
   "metadata": {},
   "outputs": [
    {
     "ename": "ValueError",
     "evalue": "Please install the 'db-dtypes' package to use this function.",
     "output_type": "error",
     "traceback": [
      "\u001b[0;31m---------------------------------------------------------------------------\u001b[0m",
      "\u001b[0;31mModuleNotFoundError\u001b[0m                       Traceback (most recent call last)",
      "File \u001b[0;32m~/anaconda3/lib/python3.12/site-packages/google/cloud/bigquery/_pandas_helpers.py:59\u001b[0m\n\u001b[1;32m     58\u001b[0m \u001b[38;5;28;01mtry\u001b[39;00m:\n\u001b[0;32m---> 59\u001b[0m     \u001b[38;5;28;01mimport\u001b[39;00m \u001b[38;5;21;01mdb_dtypes\u001b[39;00m  \u001b[38;5;66;03m# type: ignore\u001b[39;00m\n\u001b[1;32m     61\u001b[0m     date_dtype_name \u001b[38;5;241m=\u001b[39m db_dtypes\u001b[38;5;241m.\u001b[39mDateDtype\u001b[38;5;241m.\u001b[39mname\n",
      "\u001b[0;31mModuleNotFoundError\u001b[0m: No module named 'db_dtypes'",
      "\nThe above exception was the direct cause of the following exception:\n",
      "\u001b[0;31mValueError\u001b[0m                                Traceback (most recent call last)",
      "Cell \u001b[0;32mIn[39], line 1\u001b[0m\n\u001b[0;32m----> 1\u001b[0m df \u001b[38;5;241m=\u001b[39m client\u001b[38;5;241m.\u001b[39mquery(query)\u001b[38;5;241m.\u001b[39mto_dataframe()\n",
      "File \u001b[0;32m~/anaconda3/lib/python3.12/site-packages/google/cloud/bigquery/job/query.py:2075\u001b[0m, in \u001b[0;36mQueryJob.to_dataframe\u001b[0;34m(self, bqstorage_client, dtypes, progress_bar_type, create_bqstorage_client, max_results, geography_as_object, bool_dtype, int_dtype, float_dtype, string_dtype, date_dtype, datetime_dtype, time_dtype, timestamp_dtype, range_date_dtype, range_datetime_dtype, range_timestamp_dtype)\u001b[0m\n\u001b[1;32m   1868\u001b[0m \u001b[38;5;250m\u001b[39m\u001b[38;5;124;03m\"\"\"Return a pandas DataFrame from a QueryJob\u001b[39;00m\n\u001b[1;32m   1869\u001b[0m \n\u001b[1;32m   1870\u001b[0m \u001b[38;5;124;03mArgs:\u001b[39;00m\n\u001b[0;32m   (...)\u001b[0m\n\u001b[1;32m   2072\u001b[0m \u001b[38;5;124;03m        :mod:`shapely` library cannot be imported.\u001b[39;00m\n\u001b[1;32m   2073\u001b[0m \u001b[38;5;124;03m\"\"\"\u001b[39;00m\n\u001b[1;32m   2074\u001b[0m query_result \u001b[38;5;241m=\u001b[39m wait_for_query(\u001b[38;5;28mself\u001b[39m, progress_bar_type, max_results\u001b[38;5;241m=\u001b[39mmax_results)\n\u001b[0;32m-> 2075\u001b[0m \u001b[38;5;28;01mreturn\u001b[39;00m query_result\u001b[38;5;241m.\u001b[39mto_dataframe(\n\u001b[1;32m   2076\u001b[0m     bqstorage_client\u001b[38;5;241m=\u001b[39mbqstorage_client,\n\u001b[1;32m   2077\u001b[0m     dtypes\u001b[38;5;241m=\u001b[39mdtypes,\n\u001b[1;32m   2078\u001b[0m     progress_bar_type\u001b[38;5;241m=\u001b[39mprogress_bar_type,\n\u001b[1;32m   2079\u001b[0m     create_bqstorage_client\u001b[38;5;241m=\u001b[39mcreate_bqstorage_client,\n\u001b[1;32m   2080\u001b[0m     geography_as_object\u001b[38;5;241m=\u001b[39mgeography_as_object,\n\u001b[1;32m   2081\u001b[0m     bool_dtype\u001b[38;5;241m=\u001b[39mbool_dtype,\n\u001b[1;32m   2082\u001b[0m     int_dtype\u001b[38;5;241m=\u001b[39mint_dtype,\n\u001b[1;32m   2083\u001b[0m     float_dtype\u001b[38;5;241m=\u001b[39mfloat_dtype,\n\u001b[1;32m   2084\u001b[0m     string_dtype\u001b[38;5;241m=\u001b[39mstring_dtype,\n\u001b[1;32m   2085\u001b[0m     date_dtype\u001b[38;5;241m=\u001b[39mdate_dtype,\n\u001b[1;32m   2086\u001b[0m     datetime_dtype\u001b[38;5;241m=\u001b[39mdatetime_dtype,\n\u001b[1;32m   2087\u001b[0m     time_dtype\u001b[38;5;241m=\u001b[39mtime_dtype,\n\u001b[1;32m   2088\u001b[0m     timestamp_dtype\u001b[38;5;241m=\u001b[39mtimestamp_dtype,\n\u001b[1;32m   2089\u001b[0m     range_date_dtype\u001b[38;5;241m=\u001b[39mrange_date_dtype,\n\u001b[1;32m   2090\u001b[0m     range_datetime_dtype\u001b[38;5;241m=\u001b[39mrange_datetime_dtype,\n\u001b[1;32m   2091\u001b[0m     range_timestamp_dtype\u001b[38;5;241m=\u001b[39mrange_timestamp_dtype,\n\u001b[1;32m   2092\u001b[0m )\n",
      "File \u001b[0;32m~/anaconda3/lib/python3.12/site-packages/google/cloud/bigquery/table.py:2553\u001b[0m, in \u001b[0;36mRowIterator.to_dataframe\u001b[0;34m(self, bqstorage_client, dtypes, progress_bar_type, create_bqstorage_client, geography_as_object, bool_dtype, int_dtype, float_dtype, string_dtype, date_dtype, datetime_dtype, time_dtype, timestamp_dtype, range_date_dtype, range_datetime_dtype, range_timestamp_dtype)\u001b[0m\n\u001b[1;32m   2318\u001b[0m \u001b[38;5;28;01mdef\u001b[39;00m \u001b[38;5;21mto_dataframe\u001b[39m(\n\u001b[1;32m   2319\u001b[0m     \u001b[38;5;28mself\u001b[39m,\n\u001b[1;32m   2320\u001b[0m     bqstorage_client: Optional[\u001b[38;5;124m\"\u001b[39m\u001b[38;5;124mbigquery_storage.BigQueryReadClient\u001b[39m\u001b[38;5;124m\"\u001b[39m] \u001b[38;5;241m=\u001b[39m \u001b[38;5;28;01mNone\u001b[39;00m,\n\u001b[0;32m   (...)\u001b[0m\n\u001b[1;32m   2339\u001b[0m     ] \u001b[38;5;241m=\u001b[39m DefaultPandasDTypes\u001b[38;5;241m.\u001b[39mRANGE_TIMESTAMP_DTYPE,\n\u001b[1;32m   2340\u001b[0m ) \u001b[38;5;241m-\u001b[39m\u001b[38;5;241m>\u001b[39m \u001b[38;5;124m\"\u001b[39m\u001b[38;5;124mpandas.DataFrame\u001b[39m\u001b[38;5;124m\"\u001b[39m:\n\u001b[1;32m   2341\u001b[0m \u001b[38;5;250m    \u001b[39m\u001b[38;5;124;03m\"\"\"Create a pandas DataFrame by loading all pages of a query.\u001b[39;00m\n\u001b[1;32m   2342\u001b[0m \n\u001b[1;32m   2343\u001b[0m \u001b[38;5;124;03m    Args:\u001b[39;00m\n\u001b[0;32m   (...)\u001b[0m\n\u001b[1;32m   2551\u001b[0m \n\u001b[1;32m   2552\u001b[0m \u001b[38;5;124;03m    \"\"\"\u001b[39;00m\n\u001b[0;32m-> 2553\u001b[0m     _pandas_helpers\u001b[38;5;241m.\u001b[39mverify_pandas_imports()\n\u001b[1;32m   2555\u001b[0m     \u001b[38;5;28;01mif\u001b[39;00m geography_as_object \u001b[38;5;129;01mand\u001b[39;00m shapely \u001b[38;5;129;01mis\u001b[39;00m \u001b[38;5;28;01mNone\u001b[39;00m:\n\u001b[1;32m   2556\u001b[0m         \u001b[38;5;28;01mraise\u001b[39;00m \u001b[38;5;167;01mValueError\u001b[39;00m(_NO_SHAPELY_ERROR)\n",
      "File \u001b[0;32m~/anaconda3/lib/python3.12/site-packages/google/cloud/bigquery/_pandas_helpers.py:1122\u001b[0m, in \u001b[0;36mverify_pandas_imports\u001b[0;34m()\u001b[0m\n\u001b[1;32m   1120\u001b[0m     \u001b[38;5;28;01mraise\u001b[39;00m \u001b[38;5;167;01mValueError\u001b[39;00m(_NO_PANDAS_ERROR) \u001b[38;5;28;01mfrom\u001b[39;00m \u001b[38;5;21;01mpandas_import_exception\u001b[39;00m\n\u001b[1;32m   1121\u001b[0m \u001b[38;5;28;01mif\u001b[39;00m db_dtypes \u001b[38;5;129;01mis\u001b[39;00m \u001b[38;5;28;01mNone\u001b[39;00m:\n\u001b[0;32m-> 1122\u001b[0m     \u001b[38;5;28;01mraise\u001b[39;00m \u001b[38;5;167;01mValueError\u001b[39;00m(_NO_DB_TYPES_ERROR) \u001b[38;5;28;01mfrom\u001b[39;00m \u001b[38;5;21;01mdb_dtypes_import_exception\u001b[39;00m\n",
      "\u001b[0;31mValueError\u001b[0m: Please install the 'db-dtypes' package to use this function."
     ]
    }
   ],
   "source": [
    "\n",
    "df = client.query(query).to_dataframe()"
   ]
  },
  {
   "cell_type": "code",
   "execution_count": null,
   "id": "ad74203a",
   "metadata": {},
   "outputs": [],
   "source": [
    "\n",
    "stacko_vocab_size = 200\n",
    "stacko_sequence_len = 40\n",
    "\n",
    "# Create a tokenizer for this data\n",
    "stacko_tokenize = keras.preprocessing.text.Tokenizer(num_words=stacko_vocab_size)\n",
    "stacko_tokenize.fit_on_texts(df['title'].values)"
   ]
  },
  {
   "cell_type": "code",
   "execution_count": null,
   "id": "8a363155",
   "metadata": {},
   "outputs": [],
   "source": [
    "\n",
    "# Preview the first 20 words in the Tokenizer's vocabulary\n",
    "list(stacko_tokenize.word_index.keys())[:20]"
   ]
  },
  {
   "cell_type": "code",
   "execution_count": null,
   "id": "25c0b8a4",
   "metadata": {},
   "outputs": [],
   "source": [
    "questions_train_embedding = stacko_tokenize.texts_to_sequences(df['title'].values)\n",
    "questions_train_embedding = keras.preprocessing.sequence.pad_sequences(questions_train_embedding, maxlen=stacko_sequence_len, padding='post')\n"
   ]
  },
  {
   "cell_type": "markdown",
   "id": "7354b84d",
   "metadata": {},
   "source": []
  },
  {
   "cell_type": "code",
   "execution_count": null,
   "id": "01e9bf20",
   "metadata": {},
   "outputs": [],
   "source": [
    "\n",
    "# Preview the embedding representation with the actual input text\n",
    "print(df['title'].iloc[0])\n",
    "print(questions_train_embedding[0])"
   ]
  },
  {
   "cell_type": "code",
   "execution_count": null,
   "id": "6fd4128c",
   "metadata": {},
   "outputs": [],
   "source": [
    "questions_train_matrix = stacko_tokenize.texts_to_matrix(df['title'].values)\n",
    "print(questions_train_matrix[0])"
   ]
  },
  {
   "cell_type": "code",
   "execution_count": null,
   "id": "b80ebb2b",
   "metadata": {},
   "outputs": [],
   "source": [
    "\n",
    "batch_size = len(df) # Note: we're using the whole dataset as the batch size for demo purposes\n",
    "\n",
    "embedding_input = Input(shape=(stacko_sequence_len,))\n",
    "embedding_layer = Embedding(batch_size, 64)(embedding_input)\n",
    "embedding_layer = Flatten()(embedding_layer)\n",
    "embedding_layer = Dense(32, activation='relu')(embedding_layer)\n",
    "\n",
    "bow_input = Input(shape=(stacko_vocab_size,))\n",
    "bow_layer = Dense(32, activation='relu')(bow_input)"
   ]
  },
  {
   "cell_type": "code",
   "execution_count": null,
   "id": "53f01040",
   "metadata": {},
   "outputs": [],
   "source": [
    "# Try to combine the two inputs"
   ]
  },
  {
   "cell_type": "code",
   "execution_count": null,
   "id": "b4373f2b",
   "metadata": {},
   "outputs": [],
   "source": []
  }
 ],
 "metadata": {
  "kernelspec": {
   "display_name": "base",
   "language": "python",
   "name": "python3"
  },
  "language_info": {
   "codemirror_mode": {
    "name": "ipython",
    "version": 3
   },
   "file_extension": ".py",
   "mimetype": "text/x-python",
   "name": "python",
   "nbconvert_exporter": "python",
   "pygments_lexer": "ipython3",
   "version": "3.12.7"
  }
 },
 "nbformat": 4,
 "nbformat_minor": 5
}
