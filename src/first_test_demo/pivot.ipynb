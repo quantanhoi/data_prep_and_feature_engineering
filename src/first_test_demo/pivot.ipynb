{
 "cells": [
  {
   "cell_type": "code",
   "execution_count": null,
   "id": "8670bf38",
   "metadata": {},
   "outputs": [
    {
     "name": "stdout",
     "output_type": "stream",
     "text": [
      "   id category  value\n",
      "0   1        A     10\n",
      "1   1        B     20\n",
      "2   2        A     15\n",
      "3   2        B     25\n",
      "4   3        A     12\n",
      "5   3        B     18\n",
      "category   A   B\n",
      "id              \n",
      "1         10  20\n",
      "2         15  25\n",
      "3         12  18\n"
     ]
    }
   ],
   "source": [
    "import pandas as pd\n",
    "df = pd.DataFrame({\n",
    "    \"id\"      : [1, 1, 2, 2, 3, 3],\n",
    "    \"category\": [\"A\", \"B\", \"A\", \"B\", \"A\", \"B\"],\n",
    "    \"value\"   : [10, 20, 15, 25, 12, 18]\n",
    "})\n",
    "print(df)\n",
    "# 1️⃣  Put category values into separate columns (wide format)\n",
    "wide = df.pivot(index=\"id\",        # rows\n",
    "                columns=\"category\",# new columns come from here\n",
    "                values=\"value\")    # what goes into the cells\n",
    "print(wide)"
   ]
  }
 ],
 "metadata": {
  "kernelspec": {
   "display_name": "Python 3",
   "language": "python",
   "name": "python3"
  },
  "language_info": {
   "codemirror_mode": {
    "name": "ipython",
    "version": 3
   },
   "file_extension": ".py",
   "mimetype": "text/x-python",
   "name": "python",
   "nbconvert_exporter": "python",
   "pygments_lexer": "ipython3",
   "version": "3.11.9"
  }
 },
 "nbformat": 4,
 "nbformat_minor": 5
}
