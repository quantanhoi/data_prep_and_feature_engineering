{
 "cells": [
  {
   "cell_type": "code",
   "execution_count": 2,
   "id": "8499a8f4",
   "metadata": {},
   "outputs": [
    {
     "name": "stdout",
     "output_type": "stream",
     "text": [
      "   id   A\n",
      "0   1  A0\n",
      "1   2  A1\n",
      "2   4  A2\n",
      "3   5  A3\n",
      "      A    A\n",
      "id          \n",
      "1    A0  NaN\n",
      "2    A1  NaN\n",
      "4   NaN   A2\n",
      "5   NaN   A3\n"
     ]
    }
   ],
   "source": [
    "import pandas as pd\n",
    "\n",
    "df1 = pd.DataFrame({\"id\": [1, 2], \"A\": [\"A0\", \"A1\"]})\n",
    "df2 = pd.DataFrame({\"id\": [4, 5], \"A\": [\"A2\", \"A3\"]})\n",
    "\n",
    "# 1️⃣  Vertikales Stapeln  (axis=0 ist Standard)\n",
    "vstack = pd.concat([df1, df2], axis=0, ignore_index=True)\n",
    "print(vstack)\n",
    "\n",
    "# 2️⃣  Horizontales Stapeln  (axis=1)\n",
    "hstack = pd.concat([df1.set_index(\"id\"), df2.set_index(\"id\")], axis=1,\n",
    "                   join=\"outer\")\n",
    "print(hstack)"
   ]
  },
  {
   "cell_type": "code",
   "execution_count": 5,
   "id": "3dc3432a",
   "metadata": {},
   "outputs": [
    {
     "name": "stdout",
     "output_type": "stream",
     "text": [
      "   id  points grade\n",
      "0   2      20     B\n",
      "1   3      30     A\n",
      "   id  points grade\n",
      "0   1      10   NaN\n",
      "1   2      20     B\n",
      "2   3      30     A\n",
      "   id_x  points  id_y grade\n",
      "0     1      10     2     B\n",
      "1     1      10     3     A\n",
      "2     1      10     4     C\n",
      "3     2      20     2     B\n",
      "4     2      20     3     A\n"
     ]
    }
   ],
   "source": [
    "import pandas as pd\n",
    "\n",
    "left  = pd.DataFrame({\"id\": [1, 2, 3], \"points\": [10, 20, 30]})\n",
    "right = pd.DataFrame({\"id\": [2, 3, 4], \"grade\":  [\"B\", \"A\", \"C\"]})\n",
    "\n",
    "# 1️⃣  Inner Join – nur übereinstimmende ids\n",
    "inner = pd.merge(left, right, on=\"id\")\n",
    "print(inner)\n",
    "\n",
    "# 2️⃣  Left Join – alle Zeilen aus left behalten\n",
    "left_join = pd.merge(left, right, on=\"id\", how=\"left\")\n",
    "print(left_join)\n",
    "\n",
    "# 3️⃣  Kreuzprodukt (cross)\n",
    "cross = pd.merge(left, right, how=\"cross\")\n",
    "print(cross.head())   # 9 Zeilen = 3×3"
   ]
  }
 ],
 "metadata": {
  "kernelspec": {
   "display_name": "Python 3",
   "language": "python",
   "name": "python3"
  },
  "language_info": {
   "codemirror_mode": {
    "name": "ipython",
    "version": 3
   },
   "file_extension": ".py",
   "mimetype": "text/x-python",
   "name": "python",
   "nbconvert_exporter": "python",
   "pygments_lexer": "ipython3",
   "version": "3.11.9"
  }
 },
 "nbformat": 4,
 "nbformat_minor": 5
}
