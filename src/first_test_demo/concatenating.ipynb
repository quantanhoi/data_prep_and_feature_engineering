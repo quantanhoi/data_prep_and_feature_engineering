{
 "cells": [
  {
   "cell_type": "code",
   "execution_count": null,
   "id": "0df803f1",
   "metadata": {},
   "outputs": [
    {
     "name": "stdout",
     "output_type": "stream",
     "text": [
      "Team       AABB\n",
      "Points       38\n",
      "Assists      19\n",
      "dtype: object\n",
      "  Team  Points  Assists\n",
      "0    A      10        5\n",
      "1    A      12        7\n",
      "2    B       7        3\n",
      "3    B       9        4\n",
      "      pts_mean  ast_sum\n",
      "Team                   \n",
      "A         11.0       12\n",
      "B          8.0        7\n"
     ]
    }
   ],
   "source": [
    "import pandas as pd\n",
    "import numpy as np\n",
    "\n",
    "df = pd.DataFrame({\n",
    "    \"Team\": [\"A\", \"A\", \"B\", \"B\"],\n",
    "    \"Points\": [10, 12, 7, 9],\n",
    "    \"Assists\": [5, 7, 3, 4]\n",
    "})\n",
    "\n",
    "# 1️⃣  Single aggregate on the whole DataFrame\n",
    "totals = df.agg(\"sum\")\n",
    "print(totals)\n",
    "\n",
    "# 2️⃣  Multiple aggregates after grouping\n",
    "print(df.head())\n",
    "team_stats = (\n",
    "    df.groupby(\"Team\")\n",
    "        .agg(\n",
    "            pts_mean=(\"Points\", \"mean\"),     # named aggregation\n",
    "            ast_sum =(\"Assists\", \"sum\")\n",
    "        )\n",
    ")\n",
    "print(team_stats)"
   ]
  },
  {
   "cell_type": "code",
   "execution_count": null,
   "id": "a9e6ab9c",
   "metadata": {},
   "outputs": [
    {
     "name": "stdout",
     "output_type": "stream",
     "text": [
      "  Team  Points  Assists  Points_z\n",
      "0    A      10        5   0.27735\n",
      "1    A      12        7   1.38675\n",
      "2    B       7        3  -1.38675\n",
      "3    B       9        4  -0.27735\n"
     ]
    }
   ],
   "source": [
    "# Standardise Points within each team (z-score)\n",
    "z_scored = (\n",
    "    df.groupby(\"Team\")[\"Points\"]\n",
    "      .transform(lambda x: (x - x.mean()) / x.std(ddof=0))\n",
    ")\n",
    "df[\"Points_z\"] = z_scored\n",
    "print(df)"
   ]
  },
  {
   "cell_type": "code",
   "execution_count": 34,
   "id": "d262bc65",
   "metadata": {},
   "outputs": [
    {
     "name": "stdout",
     "output_type": "stream",
     "text": [
      "  Team  Points  Assists  Points_z  Quadrat_point\n",
      "0    A      10        5   0.27735            100\n",
      "1    A      12        7   1.38675            144\n",
      "2    B       7        3  -1.38675             49\n",
      "3    B       9        4  -0.27735             81\n"
     ]
    }
   ],
   "source": [
    "df['Quadrat_point'] = df['Points'].transform(lambda x: x**2) # applies the function lamba x: x**2 to each element in the \"Points\" column\n",
    "print(df.head())  "
   ]
  },
  {
   "cell_type": "code",
   "execution_count": 32,
   "id": "30012378",
   "metadata": {},
   "outputs": [
    {
     "name": "stdout",
     "output_type": "stream",
     "text": [
      "9.5\n",
      "Team\n",
      "A    11.0\n",
      "B     8.0\n",
      "Name: Points, dtype: float64\n"
     ]
    }
   ],
   "source": [
    "x_means = df[\"Points\"].mean()\n",
    "print(x_means)\n",
    "x_means_grouped = df.groupby(\"Team\")[\"Points\"].mean()\n",
    "print(x_means_grouped)"
   ]
  }
 ],
 "metadata": {
  "kernelspec": {
   "display_name": "Python 3",
   "language": "python",
   "name": "python3"
  },
  "language_info": {
   "codemirror_mode": {
    "name": "ipython",
    "version": 3
   },
   "file_extension": ".py",
   "mimetype": "text/x-python",
   "name": "python",
   "nbconvert_exporter": "python",
   "pygments_lexer": "ipython3",
   "version": "3.11.9"
  }
 },
 "nbformat": 4,
 "nbformat_minor": 5
}
