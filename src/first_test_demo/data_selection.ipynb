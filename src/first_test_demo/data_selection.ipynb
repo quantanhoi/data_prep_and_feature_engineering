{
 "cells": [
  {
   "cell_type": "code",
   "execution_count": 18,
   "id": "306e929a",
   "metadata": {},
   "outputs": [],
   "source": [
    "import pandas as pd\n",
    "\n",
    "df = pd.DataFrame({\n",
    "    'City': ['Paris', 'London', 'Berlin', 'London'],\n",
    "    'Population': [2148271, 8982000, 3645000, 1234567]\n",
    "})\n"
   ]
  },
  {
   "cell_type": "code",
   "execution_count": 19,
   "id": "69c9c738",
   "metadata": {},
   "outputs": [
    {
     "name": "stdout",
     "output_type": "stream",
     "text": [
      "1    8982000\n",
      "3    1234567\n",
      "Name: Population, dtype: int64\n"
     ]
    }
   ],
   "source": [
    "# loc is label-based\n",
    "pop_london = df.loc[df['City'] == 'London', 'Population']\n",
    "print(pop_london)\n"
   ]
  },
  {
   "cell_type": "code",
   "execution_count": 15,
   "id": "601ae913",
   "metadata": {},
   "outputs": [
    {
     "name": "stdout",
     "output_type": "stream",
     "text": [
      "8982000\n"
     ]
    }
   ],
   "source": [
    "#iloc is index-based\n",
    "pop_london_iloc = df.iloc[1, 1]  # Accessing the Population of London using index\n",
    "print(pop_london_iloc)"
   ]
  }
 ],
 "metadata": {
  "kernelspec": {
   "display_name": "Python 3",
   "language": "python",
   "name": "python3"
  },
  "language_info": {
   "codemirror_mode": {
    "name": "ipython",
    "version": 3
   },
   "file_extension": ".py",
   "mimetype": "text/x-python",
   "name": "python",
   "nbconvert_exporter": "python",
   "pygments_lexer": "ipython3",
   "version": "3.11.9"
  }
 },
 "nbformat": 4,
 "nbformat_minor": 5
}
