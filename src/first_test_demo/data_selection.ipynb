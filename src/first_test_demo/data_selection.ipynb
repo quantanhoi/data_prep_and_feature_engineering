{
 "cells": [
  {
   "cell_type": "code",
   "execution_count": 28,
   "id": "306e929a",
   "metadata": {},
   "outputs": [],
   "source": [
    "import pandas as pd\n",
    "\n",
    "df = pd.DataFrame({\n",
    "    'City': ['Paris', 'London', 'Berlin', 'London'],\n",
    "    'Population': [2148271, 8982000, 3645000, 1234567]\n",
    "})\n"
   ]
  },
  {
   "cell_type": "code",
   "execution_count": 29,
   "id": "69c9c738",
   "metadata": {},
   "outputs": [
    {
     "name": "stdout",
     "output_type": "stream",
     "text": [
      "1    8982000\n",
      "3    1234567\n",
      "Name: Population, dtype: int64\n"
     ]
    }
   ],
   "source": [
    "# loc is label-based\n",
    "pop_london = df.loc[df['City'] == 'London', 'Population']\n",
    "print(pop_london)\n"
   ]
  },
  {
   "cell_type": "code",
   "execution_count": 32,
   "id": "601ae913",
   "metadata": {
    "vscode": {
     "languageId": "ruby"
    }
   },
   "outputs": [
    {
     "name": "stdout",
     "output_type": "stream",
     "text": [
      "City           Berlin\n",
      "Population    3645000\n",
      "Name: 2, dtype: object\n"
     ]
    }
   ],
   "source": [
    "#iloc is index-based\n",
    "pop_london_iloc = df.iloc[2, :]  # Accessing the Population of London using index\n",
    "print(pop_london_iloc)\n"
   ]
  },
  {
   "cell_type": "code",
   "execution_count": 38,
   "id": "67564b8b",
   "metadata": {
    "vscode": {
     "languageId": "ruby"
    }
   },
   "outputs": [
    {
     "name": "stdout",
     "output_type": "stream",
     "text": [
      "1    8982000\n",
      "3    1234567\n",
      "Name: Population, dtype: int64\n"
     ]
    }
   ],
   "source": [
    "# or you can use a mask with .loc\n",
    "mask = df['City'].eq('London')\n",
    "pop_london_mask = df.loc[mask, 'Population']\n",
    "print(pop_london_mask)\n",
    "\n"
   ]
  },
  {
   "cell_type": "code",
   "execution_count": 39,
   "id": "c3da56ce",
   "metadata": {
    "vscode": {
     "languageId": "ruby"
    }
   },
   "outputs": [
    {
     "name": "stdout",
     "output_type": "stream",
     "text": [
      "1    8982000\n",
      "3    1234567\n",
      "Name: Population, dtype: int64\n"
     ]
    }
   ],
   "source": [
    "# convert the column label to its positional index\n",
    "pop_idx = df.columns.get_loc('Population')\n",
    "# Alternatively, to use .iloc, convert the mask to integer positions:\n",
    "row_indices = mask[mask].index\n",
    "# same rows/column as your .loc version\n",
    "pop_london = df.iloc[row_indices, pop_idx]\n",
    "print(pop_london)\n"
   ]
  },
  {
   "cell_type": "code",
   "execution_count": 46,
   "id": "63a8085e",
   "metadata": {
    "vscode": {
     "languageId": "ruby"
    }
   },
   "outputs": [
    {
     "name": "stdout",
     "output_type": "stream",
     "text": [
      "London 8982000\n"
     ]
    }
   ],
   "source": [
    "selected_idx = 1\n",
    "val = df.at[selected_idx, 'City']  # Accessing the Population of London using label\n",
    "val2 = df.at[selected_idx, 'Population']  # Accessing the Population of London using label\n",
    "print(val, val2)"
   ]
  },
  {
   "cell_type": "code",
   "execution_count": 52,
   "id": "d063cd55",
   "metadata": {
    "vscode": {
     "languageId": "ruby"
    }
   },
   "outputs": [
    {
     "name": "stdout",
     "output_type": "stream",
     "text": [
      "8982000\n"
     ]
    }
   ],
   "source": [
    "london_pop = df.iat[1, 1]  # Accessing the Population of London using index\n",
    "print(london_pop)  "
   ]
  },
  {
   "cell_type": "code",
   "execution_count": 25,
   "id": "1c5de8ed",
   "metadata": {},
   "outputs": [
    {
     "name": "stdout",
     "output_type": "stream",
     "text": [
      "Country    France\n",
      "Capital     Paris\n",
      "Name: 0, dtype: object\n"
     ]
    }
   ],
   "source": [
    "df = pd.DataFrame({\n",
    "    'Country': ['France', 'UK', 'Germany'],\n",
    "    'Capital': ['Paris', 'London', 'Berlin']\n",
    "})\n",
    "\n",
    "first_row = df.iloc[0, :]\n",
    "print(first_row)"
   ]
  }
 ],
 "metadata": {
  "kernelspec": {
   "display_name": "Python 3",
   "language": "python",
   "name": "python3"
  },
  "language_info": {
   "codemirror_mode": {
    "name": "ipython",
    "version": 3
   },
   "file_extension": ".py",
   "mimetype": "text/x-python",
   "name": "python",
   "nbconvert_exporter": "python",
   "pygments_lexer": "ipython3",
   "version": "3.11.9"
  }
 },
 "nbformat": 4,
 "nbformat_minor": 5
}
